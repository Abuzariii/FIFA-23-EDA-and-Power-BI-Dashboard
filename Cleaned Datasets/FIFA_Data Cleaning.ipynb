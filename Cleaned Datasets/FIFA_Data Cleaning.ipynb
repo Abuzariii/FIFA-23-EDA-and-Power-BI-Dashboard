{
  "nbformat": 4,
  "nbformat_minor": 0,
  "metadata": {
    "colab": {
      "provenance": [],
      "collapsed_sections": [
        "s-RNLMlZUdEm",
        "SlVU-LrIGDtN",
        "Hf2HoulDGHp2",
        "VmHCGdSPGpnN",
        "-7yoirkOLfFn",
        "kHxRXIH5PLa2",
        "esGFVF7nUhg-",
        "9gea-VkrZqLR",
        "Y41JXSw6VLUC",
        "RXNWGhDOWize",
        "HQt-ie21YNwB",
        "6nVKHDCTdLCD",
        "o2dcPRDrewut",
        "JjoLuKLngZkl"
      ]
    },
    "kernelspec": {
      "name": "python3",
      "display_name": "Python 3"
    },
    "language_info": {
      "name": "python"
    }
  },
  "cells": [
    {
      "cell_type": "markdown",
      "source": [
        "#Importing and Exploration"
      ],
      "metadata": {
        "id": "s-RNLMlZUdEm"
      }
    },
    {
      "cell_type": "code",
      "execution_count": 537,
      "metadata": {
        "id": "g8TTLRRz8_yw"
      },
      "outputs": [],
      "source": [
        "import pandas as pd\n",
        "import numpy as np\n",
        "import matplotlib.pyplot as plt"
      ]
    },
    {
      "cell_type": "code",
      "source": [
        "df = pd.read_csv(\"FIFA23_official_data.csv\")"
      ],
      "metadata": {
        "id": "4VCIQXGZ-4YX"
      },
      "execution_count": 538,
      "outputs": []
    },
    {
      "cell_type": "code",
      "source": [
        "df.shape"
      ],
      "metadata": {
        "colab": {
          "base_uri": "https://localhost:8080/"
        },
        "id": "-effVZV6_F7w",
        "outputId": "1ea9b39f-42ae-4e30-bfc3-85f86b517220"
      },
      "execution_count": 539,
      "outputs": [
        {
          "output_type": "execute_result",
          "data": {
            "text/plain": [
              "(17660, 29)"
            ]
          },
          "metadata": {},
          "execution_count": 539
        }
      ]
    },
    {
      "cell_type": "code",
      "source": [
        "df['Position'].head(5)"
      ],
      "metadata": {
        "colab": {
          "base_uri": "https://localhost:8080/"
        },
        "id": "Sz4hFhf8_HQP",
        "outputId": "554cf122-8695-4d28-e5f0-bb3c673c46a0"
      },
      "execution_count": 540,
      "outputs": [
        {
          "output_type": "execute_result",
          "data": {
            "text/plain": [
              "0    <span class=\"pos pos28\">SUB\n",
              "1    <span class=\"pos pos15\">LCM\n",
              "2      <span class=\"pos pos7\">LB\n",
              "3    <span class=\"pos pos13\">RCM\n",
              "4    <span class=\"pos pos13\">RCM\n",
              "Name: Position, dtype: object"
            ]
          },
          "metadata": {},
          "execution_count": 540
        }
      ]
    },
    {
      "cell_type": "markdown",
      "source": [
        "Splitting the column with > character and choosing the right side of it."
      ],
      "metadata": {
        "id": "A3TZTZtVTqlB"
      }
    },
    {
      "cell_type": "code",
      "source": [
        "df['Position'] = df['Position'].str.split('>').str[1]"
      ],
      "metadata": {
        "id": "6G5UAVLi_boT"
      },
      "execution_count": 541,
      "outputs": []
    },
    {
      "cell_type": "code",
      "source": [
        "df['Position'].head(5)"
      ],
      "metadata": {
        "colab": {
          "base_uri": "https://localhost:8080/"
        },
        "id": "0Co7_sGvBLmB",
        "outputId": "e1b62c28-284a-4ad6-acef-1d3412ea7699"
      },
      "execution_count": 542,
      "outputs": [
        {
          "output_type": "execute_result",
          "data": {
            "text/plain": [
              "0    SUB\n",
              "1    LCM\n",
              "2     LB\n",
              "3    RCM\n",
              "4    RCM\n",
              "Name: Position, dtype: object"
            ]
          },
          "metadata": {},
          "execution_count": 542
        }
      ]
    },
    {
      "cell_type": "code",
      "source": [
        "df['Position'].isnull().sum()"
      ],
      "metadata": {
        "colab": {
          "base_uri": "https://localhost:8080/"
        },
        "id": "JVEQRERyCOHL",
        "outputId": "5eb4450a-d138-4427-d8ed-b5eb9965c308"
      },
      "execution_count": 543,
      "outputs": [
        {
          "output_type": "execute_result",
          "data": {
            "text/plain": [
              "35"
            ]
          },
          "metadata": {},
          "execution_count": 543
        }
      ]
    },
    {
      "cell_type": "code",
      "source": [
        "df['Position'].unique()"
      ],
      "metadata": {
        "colab": {
          "base_uri": "https://localhost:8080/"
        },
        "id": "zxdst44PCH4q",
        "outputId": "eed1d481-ae00-4b19-d2d9-1f92b0a56582"
      },
      "execution_count": 544,
      "outputs": [
        {
          "output_type": "execute_result",
          "data": {
            "text/plain": [
              "array(['SUB', 'LCM', 'LB', 'RCM', 'RDM', 'LCB', 'RS', 'RB', 'LM', 'LS',\n",
              "       'RWB', 'CDM', 'RW', 'RM', 'LF', 'LWB', 'ST', 'CAM', 'LDM', 'RES',\n",
              "       'LW', 'CF', 'RF', 'RCB', 'CM', 'CB', nan, 'RAM', 'LAM', 'GK'],\n",
              "      dtype=object)"
            ]
          },
          "metadata": {},
          "execution_count": 544
        }
      ]
    },
    {
      "cell_type": "code",
      "source": [
        "len(df['Position'].unique())"
      ],
      "metadata": {
        "colab": {
          "base_uri": "https://localhost:8080/"
        },
        "id": "e5oRKRXOB5Zk",
        "outputId": "43db1331-e03f-491d-a385-77ea108ad26b"
      },
      "execution_count": 545,
      "outputs": [
        {
          "output_type": "execute_result",
          "data": {
            "text/plain": [
              "30"
            ]
          },
          "metadata": {},
          "execution_count": 545
        }
      ]
    },
    {
      "cell_type": "markdown",
      "source": [
        "Players with unspecified position contained a few legacy players like David Bekham and Didier Drogba but mostly old, irrelevant players so its safe to drop them all."
      ],
      "metadata": {
        "id": "psdtyy7cD2rp"
      }
    },
    {
      "cell_type": "code",
      "source": [
        "df['Position'].isnull().sum()"
      ],
      "metadata": {
        "colab": {
          "base_uri": "https://localhost:8080/"
        },
        "id": "KegLFIWLCsPp",
        "outputId": "3cba68b0-146e-40bc-858f-51ddbc083c60"
      },
      "execution_count": 546,
      "outputs": [
        {
          "output_type": "execute_result",
          "data": {
            "text/plain": [
              "35"
            ]
          },
          "metadata": {},
          "execution_count": 546
        }
      ]
    },
    {
      "cell_type": "code",
      "source": [
        "df = df.dropna(subset=['Position'])"
      ],
      "metadata": {
        "id": "RcEJ5ojcB9Nc"
      },
      "execution_count": 547,
      "outputs": []
    },
    {
      "cell_type": "code",
      "source": [
        "df.shape"
      ],
      "metadata": {
        "colab": {
          "base_uri": "https://localhost:8080/"
        },
        "id": "1bKSLO7gCoiZ",
        "outputId": "68961bae-6967-4719-9610-eb1c041465ea"
      },
      "execution_count": 548,
      "outputs": [
        {
          "output_type": "execute_result",
          "data": {
            "text/plain": [
              "(17625, 29)"
            ]
          },
          "metadata": {},
          "execution_count": 548
        }
      ]
    },
    {
      "cell_type": "code",
      "source": [
        "df['Position'].unique()"
      ],
      "metadata": {
        "colab": {
          "base_uri": "https://localhost:8080/"
        },
        "id": "scuq13t2Ddag",
        "outputId": "730c9087-360b-4305-eea6-1494c4bcaa15"
      },
      "execution_count": 549,
      "outputs": [
        {
          "output_type": "execute_result",
          "data": {
            "text/plain": [
              "array(['SUB', 'LCM', 'LB', 'RCM', 'RDM', 'LCB', 'RS', 'RB', 'LM', 'LS',\n",
              "       'RWB', 'CDM', 'RW', 'RM', 'LF', 'LWB', 'ST', 'CAM', 'LDM', 'RES',\n",
              "       'LW', 'CF', 'RF', 'RCB', 'CM', 'CB', 'RAM', 'LAM', 'GK'],\n",
              "      dtype=object)"
            ]
          },
          "metadata": {},
          "execution_count": 549
        }
      ]
    },
    {
      "cell_type": "code",
      "source": [
        "len(df['Position'].unique())"
      ],
      "metadata": {
        "colab": {
          "base_uri": "https://localhost:8080/"
        },
        "id": "CJ4HFUEPETRx",
        "outputId": "b7c9b3b9-b926-4a00-a28d-edd88716c61d"
      },
      "execution_count": 550,
      "outputs": [
        {
          "output_type": "execute_result",
          "data": {
            "text/plain": [
              "29"
            ]
          },
          "metadata": {},
          "execution_count": 550
        }
      ]
    },
    {
      "cell_type": "markdown",
      "source": [
        "Now we have 29 different positions. Lets filter out positions with letter M in them considering they are midfielders."
      ],
      "metadata": {
        "id": "qsHkTAqHEcd7"
      }
    },
    {
      "cell_type": "code",
      "source": [
        "positions = df['Position'].unique()\n",
        "\n",
        "print(positions)"
      ],
      "metadata": {
        "colab": {
          "base_uri": "https://localhost:8080/"
        },
        "id": "NMgSkWsHEXEd",
        "outputId": "770d7898-4166-4eb9-ff7c-d95ef29d30d0"
      },
      "execution_count": 551,
      "outputs": [
        {
          "output_type": "stream",
          "name": "stdout",
          "text": [
            "['SUB' 'LCM' 'LB' 'RCM' 'RDM' 'LCB' 'RS' 'RB' 'LM' 'LS' 'RWB' 'CDM' 'RW'\n",
            " 'RM' 'LF' 'LWB' 'ST' 'CAM' 'LDM' 'RES' 'LW' 'CF' 'RF' 'RCB' 'CM' 'CB'\n",
            " 'RAM' 'LAM' 'GK']\n"
          ]
        }
      ]
    },
    {
      "cell_type": "markdown",
      "source": [
        "#Midfielders Dataset"
      ],
      "metadata": {
        "id": "SlVU-LrIGDtN"
      }
    },
    {
      "cell_type": "code",
      "source": [
        "mid_positions = [k for k in positions if 'M' in k]\n",
        "\n",
        "print(mid_positions)"
      ],
      "metadata": {
        "colab": {
          "base_uri": "https://localhost:8080/"
        },
        "id": "a7hkUy9TEu_g",
        "outputId": "40cc9dbe-a397-4b51-d7e6-6b443efce690"
      },
      "execution_count": 552,
      "outputs": [
        {
          "output_type": "stream",
          "name": "stdout",
          "text": [
            "['LCM', 'RCM', 'RDM', 'LM', 'CDM', 'RM', 'CAM', 'LDM', 'CM', 'RAM', 'LAM']\n"
          ]
        }
      ]
    },
    {
      "cell_type": "code",
      "source": [
        "len(mid_positions)"
      ],
      "metadata": {
        "colab": {
          "base_uri": "https://localhost:8080/"
        },
        "id": "lxI0rY-TE_Js",
        "outputId": "a352178a-3aab-4a5b-9004-1cd2e6000b49"
      },
      "execution_count": 553,
      "outputs": [
        {
          "output_type": "execute_result",
          "data": {
            "text/plain": [
              "11"
            ]
          },
          "metadata": {},
          "execution_count": 553
        }
      ]
    },
    {
      "cell_type": "code",
      "source": [
        "df_mids = df[df['Position'].str.contains(\"M\")]"
      ],
      "metadata": {
        "id": "XrUxWP_KFH1m"
      },
      "execution_count": 554,
      "outputs": []
    },
    {
      "cell_type": "code",
      "source": [
        "df_mids.shape"
      ],
      "metadata": {
        "colab": {
          "base_uri": "https://localhost:8080/"
        },
        "id": "OZCTWueBFkPN",
        "outputId": "b0c821ef-51f9-42a2-fb38-c3369276a189"
      },
      "execution_count": 555,
      "outputs": [
        {
          "output_type": "execute_result",
          "data": {
            "text/plain": [
              "(1827, 29)"
            ]
          },
          "metadata": {},
          "execution_count": 555
        }
      ]
    },
    {
      "cell_type": "code",
      "source": [
        "df_mids.head(5)"
      ],
      "metadata": {
        "colab": {
          "base_uri": "https://localhost:8080/",
          "height": 0
        },
        "id": "MYX0xV9NFl2L",
        "outputId": "925060ae-c53f-4cd8-c1bc-d54b0493b802"
      },
      "execution_count": 556,
      "outputs": [
        {
          "output_type": "execute_result",
          "data": {
            "text/plain": [
              "       ID             Name  Age  \\\n",
              "1  212198  Bruno Fernandes   27   \n",
              "3  192985     K. De Bruyne   31   \n",
              "4  224232       N. Barella   25   \n",
              "5  212622       J. Kimmich   27   \n",
              "7  187961      22 Paulinho   32   \n",
              "\n",
              "                                              Photo Nationality  \\\n",
              "1  https://cdn.sofifa.net/players/212/198/23_60.png    Portugal   \n",
              "3  https://cdn.sofifa.net/players/192/985/23_60.png     Belgium   \n",
              "4  https://cdn.sofifa.net/players/224/232/23_60.png       Italy   \n",
              "5  https://cdn.sofifa.net/players/212/622/23_60.png     Germany   \n",
              "7  https://cdn.sofifa.net/players/187/961/22_60.png      Brazil   \n",
              "\n",
              "                                  Flag  Overall  Potential               Club  \\\n",
              "1  https://cdn.sofifa.net/flags/pt.png       86         87  Manchester United   \n",
              "3  https://cdn.sofifa.net/flags/be.png       91         91    Manchester City   \n",
              "4  https://cdn.sofifa.net/flags/it.png       86         89              Inter   \n",
              "5  https://cdn.sofifa.net/flags/de.png       89         90  FC Bayern München   \n",
              "7  https://cdn.sofifa.net/flags/br.png       83         83            Al Ahli   \n",
              "\n",
              "                                    Club Logo  ... Real Face Position  \\\n",
              "1      https://cdn.sofifa.net/teams/11/30.png  ...       Yes      LCM   \n",
              "3      https://cdn.sofifa.net/teams/10/30.png  ...       Yes      RCM   \n",
              "4      https://cdn.sofifa.net/teams/44/30.png  ...       Yes      RCM   \n",
              "5      https://cdn.sofifa.net/teams/21/30.png  ...       Yes      RDM   \n",
              "7  https://cdn.sofifa.net/teams/112387/30.png  ...       Yes      LCM   \n",
              "\n",
              "         Joined Loaned From  Contract Valid Until  Height  Weight  \\\n",
              "1  Jan 30, 2020         NaN                  2026   179cm    69kg   \n",
              "3  Aug 30, 2015         NaN                  2025   181cm    70kg   \n",
              "4   Sep 1, 2020         NaN                  2026   172cm    68kg   \n",
              "5   Jul 1, 2015         NaN                  2025   177cm    75kg   \n",
              "7  Jul 22, 2021         NaN                  2024   183cm    80kg   \n",
              "\n",
              "  Release Clause Kit Number Best Overall Rating  \n",
              "1          €155M        8.0                 NaN  \n",
              "3        €198.9M       17.0                 NaN  \n",
              "4        €154.4M       23.0                 NaN  \n",
              "5          €182M        6.0                 NaN  \n",
              "7         €48.5M       15.0                 NaN  \n",
              "\n",
              "[5 rows x 29 columns]"
            ],
            "text/html": [
              "\n",
              "  <div id=\"df-d853d805-e4a0-4bdc-a024-a6ab6c987c8b\">\n",
              "    <div class=\"colab-df-container\">\n",
              "      <div>\n",
              "<style scoped>\n",
              "    .dataframe tbody tr th:only-of-type {\n",
              "        vertical-align: middle;\n",
              "    }\n",
              "\n",
              "    .dataframe tbody tr th {\n",
              "        vertical-align: top;\n",
              "    }\n",
              "\n",
              "    .dataframe thead th {\n",
              "        text-align: right;\n",
              "    }\n",
              "</style>\n",
              "<table border=\"1\" class=\"dataframe\">\n",
              "  <thead>\n",
              "    <tr style=\"text-align: right;\">\n",
              "      <th></th>\n",
              "      <th>ID</th>\n",
              "      <th>Name</th>\n",
              "      <th>Age</th>\n",
              "      <th>Photo</th>\n",
              "      <th>Nationality</th>\n",
              "      <th>Flag</th>\n",
              "      <th>Overall</th>\n",
              "      <th>Potential</th>\n",
              "      <th>Club</th>\n",
              "      <th>Club Logo</th>\n",
              "      <th>...</th>\n",
              "      <th>Real Face</th>\n",
              "      <th>Position</th>\n",
              "      <th>Joined</th>\n",
              "      <th>Loaned From</th>\n",
              "      <th>Contract Valid Until</th>\n",
              "      <th>Height</th>\n",
              "      <th>Weight</th>\n",
              "      <th>Release Clause</th>\n",
              "      <th>Kit Number</th>\n",
              "      <th>Best Overall Rating</th>\n",
              "    </tr>\n",
              "  </thead>\n",
              "  <tbody>\n",
              "    <tr>\n",
              "      <th>1</th>\n",
              "      <td>212198</td>\n",
              "      <td>Bruno Fernandes</td>\n",
              "      <td>27</td>\n",
              "      <td>https://cdn.sofifa.net/players/212/198/23_60.png</td>\n",
              "      <td>Portugal</td>\n",
              "      <td>https://cdn.sofifa.net/flags/pt.png</td>\n",
              "      <td>86</td>\n",
              "      <td>87</td>\n",
              "      <td>Manchester United</td>\n",
              "      <td>https://cdn.sofifa.net/teams/11/30.png</td>\n",
              "      <td>...</td>\n",
              "      <td>Yes</td>\n",
              "      <td>LCM</td>\n",
              "      <td>Jan 30, 2020</td>\n",
              "      <td>NaN</td>\n",
              "      <td>2026</td>\n",
              "      <td>179cm</td>\n",
              "      <td>69kg</td>\n",
              "      <td>€155M</td>\n",
              "      <td>8.0</td>\n",
              "      <td>NaN</td>\n",
              "    </tr>\n",
              "    <tr>\n",
              "      <th>3</th>\n",
              "      <td>192985</td>\n",
              "      <td>K. De Bruyne</td>\n",
              "      <td>31</td>\n",
              "      <td>https://cdn.sofifa.net/players/192/985/23_60.png</td>\n",
              "      <td>Belgium</td>\n",
              "      <td>https://cdn.sofifa.net/flags/be.png</td>\n",
              "      <td>91</td>\n",
              "      <td>91</td>\n",
              "      <td>Manchester City</td>\n",
              "      <td>https://cdn.sofifa.net/teams/10/30.png</td>\n",
              "      <td>...</td>\n",
              "      <td>Yes</td>\n",
              "      <td>RCM</td>\n",
              "      <td>Aug 30, 2015</td>\n",
              "      <td>NaN</td>\n",
              "      <td>2025</td>\n",
              "      <td>181cm</td>\n",
              "      <td>70kg</td>\n",
              "      <td>€198.9M</td>\n",
              "      <td>17.0</td>\n",
              "      <td>NaN</td>\n",
              "    </tr>\n",
              "    <tr>\n",
              "      <th>4</th>\n",
              "      <td>224232</td>\n",
              "      <td>N. Barella</td>\n",
              "      <td>25</td>\n",
              "      <td>https://cdn.sofifa.net/players/224/232/23_60.png</td>\n",
              "      <td>Italy</td>\n",
              "      <td>https://cdn.sofifa.net/flags/it.png</td>\n",
              "      <td>86</td>\n",
              "      <td>89</td>\n",
              "      <td>Inter</td>\n",
              "      <td>https://cdn.sofifa.net/teams/44/30.png</td>\n",
              "      <td>...</td>\n",
              "      <td>Yes</td>\n",
              "      <td>RCM</td>\n",
              "      <td>Sep 1, 2020</td>\n",
              "      <td>NaN</td>\n",
              "      <td>2026</td>\n",
              "      <td>172cm</td>\n",
              "      <td>68kg</td>\n",
              "      <td>€154.4M</td>\n",
              "      <td>23.0</td>\n",
              "      <td>NaN</td>\n",
              "    </tr>\n",
              "    <tr>\n",
              "      <th>5</th>\n",
              "      <td>212622</td>\n",
              "      <td>J. Kimmich</td>\n",
              "      <td>27</td>\n",
              "      <td>https://cdn.sofifa.net/players/212/622/23_60.png</td>\n",
              "      <td>Germany</td>\n",
              "      <td>https://cdn.sofifa.net/flags/de.png</td>\n",
              "      <td>89</td>\n",
              "      <td>90</td>\n",
              "      <td>FC Bayern München</td>\n",
              "      <td>https://cdn.sofifa.net/teams/21/30.png</td>\n",
              "      <td>...</td>\n",
              "      <td>Yes</td>\n",
              "      <td>RDM</td>\n",
              "      <td>Jul 1, 2015</td>\n",
              "      <td>NaN</td>\n",
              "      <td>2025</td>\n",
              "      <td>177cm</td>\n",
              "      <td>75kg</td>\n",
              "      <td>€182M</td>\n",
              "      <td>6.0</td>\n",
              "      <td>NaN</td>\n",
              "    </tr>\n",
              "    <tr>\n",
              "      <th>7</th>\n",
              "      <td>187961</td>\n",
              "      <td>22 Paulinho</td>\n",
              "      <td>32</td>\n",
              "      <td>https://cdn.sofifa.net/players/187/961/22_60.png</td>\n",
              "      <td>Brazil</td>\n",
              "      <td>https://cdn.sofifa.net/flags/br.png</td>\n",
              "      <td>83</td>\n",
              "      <td>83</td>\n",
              "      <td>Al Ahli</td>\n",
              "      <td>https://cdn.sofifa.net/teams/112387/30.png</td>\n",
              "      <td>...</td>\n",
              "      <td>Yes</td>\n",
              "      <td>LCM</td>\n",
              "      <td>Jul 22, 2021</td>\n",
              "      <td>NaN</td>\n",
              "      <td>2024</td>\n",
              "      <td>183cm</td>\n",
              "      <td>80kg</td>\n",
              "      <td>€48.5M</td>\n",
              "      <td>15.0</td>\n",
              "      <td>NaN</td>\n",
              "    </tr>\n",
              "  </tbody>\n",
              "</table>\n",
              "<p>5 rows × 29 columns</p>\n",
              "</div>\n",
              "      <button class=\"colab-df-convert\" onclick=\"convertToInteractive('df-d853d805-e4a0-4bdc-a024-a6ab6c987c8b')\"\n",
              "              title=\"Convert this dataframe to an interactive table.\"\n",
              "              style=\"display:none;\">\n",
              "        \n",
              "  <svg xmlns=\"http://www.w3.org/2000/svg\" height=\"24px\"viewBox=\"0 0 24 24\"\n",
              "       width=\"24px\">\n",
              "    <path d=\"M0 0h24v24H0V0z\" fill=\"none\"/>\n",
              "    <path d=\"M18.56 5.44l.94 2.06.94-2.06 2.06-.94-2.06-.94-.94-2.06-.94 2.06-2.06.94zm-11 1L8.5 8.5l.94-2.06 2.06-.94-2.06-.94L8.5 2.5l-.94 2.06-2.06.94zm10 10l.94 2.06.94-2.06 2.06-.94-2.06-.94-.94-2.06-.94 2.06-2.06.94z\"/><path d=\"M17.41 7.96l-1.37-1.37c-.4-.4-.92-.59-1.43-.59-.52 0-1.04.2-1.43.59L10.3 9.45l-7.72 7.72c-.78.78-.78 2.05 0 2.83L4 21.41c.39.39.9.59 1.41.59.51 0 1.02-.2 1.41-.59l7.78-7.78 2.81-2.81c.8-.78.8-2.07 0-2.86zM5.41 20L4 18.59l7.72-7.72 1.47 1.35L5.41 20z\"/>\n",
              "  </svg>\n",
              "      </button>\n",
              "      \n",
              "  <style>\n",
              "    .colab-df-container {\n",
              "      display:flex;\n",
              "      flex-wrap:wrap;\n",
              "      gap: 12px;\n",
              "    }\n",
              "\n",
              "    .colab-df-convert {\n",
              "      background-color: #E8F0FE;\n",
              "      border: none;\n",
              "      border-radius: 50%;\n",
              "      cursor: pointer;\n",
              "      display: none;\n",
              "      fill: #1967D2;\n",
              "      height: 32px;\n",
              "      padding: 0 0 0 0;\n",
              "      width: 32px;\n",
              "    }\n",
              "\n",
              "    .colab-df-convert:hover {\n",
              "      background-color: #E2EBFA;\n",
              "      box-shadow: 0px 1px 2px rgba(60, 64, 67, 0.3), 0px 1px 3px 1px rgba(60, 64, 67, 0.15);\n",
              "      fill: #174EA6;\n",
              "    }\n",
              "\n",
              "    [theme=dark] .colab-df-convert {\n",
              "      background-color: #3B4455;\n",
              "      fill: #D2E3FC;\n",
              "    }\n",
              "\n",
              "    [theme=dark] .colab-df-convert:hover {\n",
              "      background-color: #434B5C;\n",
              "      box-shadow: 0px 1px 3px 1px rgba(0, 0, 0, 0.15);\n",
              "      filter: drop-shadow(0px 1px 2px rgba(0, 0, 0, 0.3));\n",
              "      fill: #FFFFFF;\n",
              "    }\n",
              "  </style>\n",
              "\n",
              "      <script>\n",
              "        const buttonEl =\n",
              "          document.querySelector('#df-d853d805-e4a0-4bdc-a024-a6ab6c987c8b button.colab-df-convert');\n",
              "        buttonEl.style.display =\n",
              "          google.colab.kernel.accessAllowed ? 'block' : 'none';\n",
              "\n",
              "        async function convertToInteractive(key) {\n",
              "          const element = document.querySelector('#df-d853d805-e4a0-4bdc-a024-a6ab6c987c8b');\n",
              "          const dataTable =\n",
              "            await google.colab.kernel.invokeFunction('convertToInteractive',\n",
              "                                                     [key], {});\n",
              "          if (!dataTable) return;\n",
              "\n",
              "          const docLinkHtml = 'Like what you see? Visit the ' +\n",
              "            '<a target=\"_blank\" href=https://colab.research.google.com/notebooks/data_table.ipynb>data table notebook</a>'\n",
              "            + ' to learn more about interactive tables.';\n",
              "          element.innerHTML = '';\n",
              "          dataTable['output_type'] = 'display_data';\n",
              "          await google.colab.output.renderOutput(dataTable, element);\n",
              "          const docLink = document.createElement('div');\n",
              "          docLink.innerHTML = docLinkHtml;\n",
              "          element.appendChild(docLink);\n",
              "        }\n",
              "      </script>\n",
              "    </div>\n",
              "  </div>\n",
              "  "
            ]
          },
          "metadata": {},
          "execution_count": 556
        }
      ]
    },
    {
      "cell_type": "markdown",
      "source": [
        "#Goalkeepers Dataset"
      ],
      "metadata": {
        "id": "Hf2HoulDGHp2"
      }
    },
    {
      "cell_type": "code",
      "source": [
        "gk_positions = [k for k in positions if 'GK' in k]\n",
        "\n",
        "print(gk_positions)"
      ],
      "metadata": {
        "colab": {
          "base_uri": "https://localhost:8080/"
        },
        "id": "VeW7CK01GRLF",
        "outputId": "ebae6092-14d1-4959-9302-c2b8a4f06504"
      },
      "execution_count": 557,
      "outputs": [
        {
          "output_type": "stream",
          "name": "stdout",
          "text": [
            "['GK']\n"
          ]
        }
      ]
    },
    {
      "cell_type": "code",
      "source": [
        "len(gk_positions)"
      ],
      "metadata": {
        "colab": {
          "base_uri": "https://localhost:8080/"
        },
        "id": "m5LzuHnyGYa0",
        "outputId": "507b189e-44a1-4ea2-ef75-cf8f5be8d76f"
      },
      "execution_count": 558,
      "outputs": [
        {
          "output_type": "execute_result",
          "data": {
            "text/plain": [
              "1"
            ]
          },
          "metadata": {},
          "execution_count": 558
        }
      ]
    },
    {
      "cell_type": "markdown",
      "source": [
        "We had 6 different midfield positions and 1 different goal keeper position"
      ],
      "metadata": {
        "id": "Cu-OmdWCGb8_"
      }
    },
    {
      "cell_type": "code",
      "source": [
        "df_gks = df[df['Position'].str.contains(\"GK\")]"
      ],
      "metadata": {
        "id": "23SsM7snFomY"
      },
      "execution_count": 559,
      "outputs": []
    },
    {
      "cell_type": "code",
      "source": [
        "df_gks.shape"
      ],
      "metadata": {
        "colab": {
          "base_uri": "https://localhost:8080/"
        },
        "id": "EKxpwzCAGibv",
        "outputId": "29c94252-59cb-4e81-ddb5-b8006ec0f9d0"
      },
      "execution_count": 560,
      "outputs": [
        {
          "output_type": "execute_result",
          "data": {
            "text/plain": [
              "(376, 29)"
            ]
          },
          "metadata": {},
          "execution_count": 560
        }
      ]
    },
    {
      "cell_type": "markdown",
      "source": [
        "#Defenders Dataset"
      ],
      "metadata": {
        "id": "VmHCGdSPGpnN"
      }
    },
    {
      "cell_type": "markdown",
      "source": [
        "SUB position is for players with balanced forward and midfield abilities so we filtering it out"
      ],
      "metadata": {
        "id": "uAGIuBliHSMK"
      }
    },
    {
      "cell_type": "code",
      "source": [
        "def_positions = [k for k in positions if 'B' in k and 'SUB' not in k]\n",
        "\n",
        "print(def_positions)"
      ],
      "metadata": {
        "colab": {
          "base_uri": "https://localhost:8080/"
        },
        "id": "T9a62sgJGjzh",
        "outputId": "89294a68-39eb-4678-8a0d-664a18b37590"
      },
      "execution_count": 561,
      "outputs": [
        {
          "output_type": "stream",
          "name": "stdout",
          "text": [
            "['LB', 'LCB', 'RB', 'RWB', 'LWB', 'RCB', 'CB']\n"
          ]
        }
      ]
    },
    {
      "cell_type": "code",
      "source": [
        "len(def_positions)"
      ],
      "metadata": {
        "colab": {
          "base_uri": "https://localhost:8080/"
        },
        "id": "kTgtCU5ZHkex",
        "outputId": "aae47f5c-6465-4544-a227-d53d173f3768"
      },
      "execution_count": 562,
      "outputs": [
        {
          "output_type": "execute_result",
          "data": {
            "text/plain": [
              "7"
            ]
          },
          "metadata": {},
          "execution_count": 562
        }
      ]
    },
    {
      "cell_type": "code",
      "source": [
        "df_defs = df[df['Position'].str.contains('|'.join(def_positions))]"
      ],
      "metadata": {
        "id": "4pTl7DT2IWqW"
      },
      "execution_count": 563,
      "outputs": []
    },
    {
      "cell_type": "code",
      "source": [
        "df_defs['Position'].head(5)"
      ],
      "metadata": {
        "colab": {
          "base_uri": "https://localhost:8080/"
        },
        "id": "MwG4xn0gIh-C",
        "outputId": "ba1589c0-adce-4188-b483-1f4a787afe25"
      },
      "execution_count": 564,
      "outputs": [
        {
          "output_type": "execute_result",
          "data": {
            "text/plain": [
              "2      LB\n",
              "6     LCB\n",
              "9      LB\n",
              "19     RB\n",
              "21     RB\n",
              "Name: Position, dtype: object"
            ]
          },
          "metadata": {},
          "execution_count": 564
        }
      ]
    },
    {
      "cell_type": "code",
      "source": [
        "df_defs.shape"
      ],
      "metadata": {
        "colab": {
          "base_uri": "https://localhost:8080/"
        },
        "id": "hBnl8m5tIpIT",
        "outputId": "8c4ba925-7cba-4bc5-81b2-f5f8741c72ae"
      },
      "execution_count": 565,
      "outputs": [
        {
          "output_type": "execute_result",
          "data": {
            "text/plain": [
              "(1767, 29)"
            ]
          },
          "metadata": {},
          "execution_count": 565
        }
      ]
    },
    {
      "cell_type": "code",
      "source": [
        "df_defs.head(5)"
      ],
      "metadata": {
        "colab": {
          "base_uri": "https://localhost:8080/",
          "height": 0
        },
        "id": "LczaaLN2LSCC",
        "outputId": "527cf320-1128-452c-f613-37689e71154c"
      },
      "execution_count": 566,
      "outputs": [
        {
          "output_type": "execute_result",
          "data": {
            "text/plain": [
              "        ID                 Name  Age  \\\n",
              "2   224334             M. Acuña   30   \n",
              "6   197445             D. Alaba   30   \n",
              "9   210514         João Cancelo   28   \n",
              "19  193082          J. Cuadrado   34   \n",
              "21  231281  T. Alexander-Arnold   23   \n",
              "\n",
              "                                               Photo Nationality  \\\n",
              "2   https://cdn.sofifa.net/players/224/334/23_60.png   Argentina   \n",
              "6   https://cdn.sofifa.net/players/197/445/23_60.png     Austria   \n",
              "9   https://cdn.sofifa.net/players/210/514/23_60.png    Portugal   \n",
              "19  https://cdn.sofifa.net/players/193/082/23_60.png    Colombia   \n",
              "21  https://cdn.sofifa.net/players/231/281/23_60.png     England   \n",
              "\n",
              "                                       Flag  Overall  Potential  \\\n",
              "2       https://cdn.sofifa.net/flags/ar.png       85         85   \n",
              "6       https://cdn.sofifa.net/flags/at.png       86         86   \n",
              "9       https://cdn.sofifa.net/flags/pt.png       88         88   \n",
              "19      https://cdn.sofifa.net/flags/co.png       83         83   \n",
              "21  https://cdn.sofifa.net/flags/gb-eng.png       87         90   \n",
              "\n",
              "               Club                                Club Logo  ... Real Face  \\\n",
              "2        Sevilla FC  https://cdn.sofifa.net/teams/481/30.png  ...        No   \n",
              "6    Real Madrid CF  https://cdn.sofifa.net/teams/243/30.png  ...       Yes   \n",
              "9   Manchester City   https://cdn.sofifa.net/teams/10/30.png  ...       Yes   \n",
              "19         Juventus   https://cdn.sofifa.net/teams/45/30.png  ...       Yes   \n",
              "21        Liverpool    https://cdn.sofifa.net/teams/9/30.png  ...       Yes   \n",
              "\n",
              "   Position        Joined Loaned From  Contract Valid Until  Height  Weight  \\\n",
              "2        LB  Sep 14, 2020         NaN                  2024   172cm    69kg   \n",
              "6       LCB   Jul 1, 2021         NaN                  2026   180cm    78kg   \n",
              "9        LB   Aug 7, 2019         NaN                  2027   182cm    74kg   \n",
              "19       RB   Jul 1, 2017         NaN                  2023   179cm    72kg   \n",
              "21       RB   Oct 7, 2015         NaN                  2025   180cm    69kg   \n",
              "\n",
              "   Release Clause Kit Number Best Overall Rating  \n",
              "2          €97.7M       19.0                 NaN  \n",
              "6         €113.8M        4.0                 NaN  \n",
              "9         €152.6M        7.0                 NaN  \n",
              "19           €23M       11.0                 NaN  \n",
              "21        €193.5M       66.0                 NaN  \n",
              "\n",
              "[5 rows x 29 columns]"
            ],
            "text/html": [
              "\n",
              "  <div id=\"df-287de711-7d71-446f-aed7-9f8c02ecab28\">\n",
              "    <div class=\"colab-df-container\">\n",
              "      <div>\n",
              "<style scoped>\n",
              "    .dataframe tbody tr th:only-of-type {\n",
              "        vertical-align: middle;\n",
              "    }\n",
              "\n",
              "    .dataframe tbody tr th {\n",
              "        vertical-align: top;\n",
              "    }\n",
              "\n",
              "    .dataframe thead th {\n",
              "        text-align: right;\n",
              "    }\n",
              "</style>\n",
              "<table border=\"1\" class=\"dataframe\">\n",
              "  <thead>\n",
              "    <tr style=\"text-align: right;\">\n",
              "      <th></th>\n",
              "      <th>ID</th>\n",
              "      <th>Name</th>\n",
              "      <th>Age</th>\n",
              "      <th>Photo</th>\n",
              "      <th>Nationality</th>\n",
              "      <th>Flag</th>\n",
              "      <th>Overall</th>\n",
              "      <th>Potential</th>\n",
              "      <th>Club</th>\n",
              "      <th>Club Logo</th>\n",
              "      <th>...</th>\n",
              "      <th>Real Face</th>\n",
              "      <th>Position</th>\n",
              "      <th>Joined</th>\n",
              "      <th>Loaned From</th>\n",
              "      <th>Contract Valid Until</th>\n",
              "      <th>Height</th>\n",
              "      <th>Weight</th>\n",
              "      <th>Release Clause</th>\n",
              "      <th>Kit Number</th>\n",
              "      <th>Best Overall Rating</th>\n",
              "    </tr>\n",
              "  </thead>\n",
              "  <tbody>\n",
              "    <tr>\n",
              "      <th>2</th>\n",
              "      <td>224334</td>\n",
              "      <td>M. Acuña</td>\n",
              "      <td>30</td>\n",
              "      <td>https://cdn.sofifa.net/players/224/334/23_60.png</td>\n",
              "      <td>Argentina</td>\n",
              "      <td>https://cdn.sofifa.net/flags/ar.png</td>\n",
              "      <td>85</td>\n",
              "      <td>85</td>\n",
              "      <td>Sevilla FC</td>\n",
              "      <td>https://cdn.sofifa.net/teams/481/30.png</td>\n",
              "      <td>...</td>\n",
              "      <td>No</td>\n",
              "      <td>LB</td>\n",
              "      <td>Sep 14, 2020</td>\n",
              "      <td>NaN</td>\n",
              "      <td>2024</td>\n",
              "      <td>172cm</td>\n",
              "      <td>69kg</td>\n",
              "      <td>€97.7M</td>\n",
              "      <td>19.0</td>\n",
              "      <td>NaN</td>\n",
              "    </tr>\n",
              "    <tr>\n",
              "      <th>6</th>\n",
              "      <td>197445</td>\n",
              "      <td>D. Alaba</td>\n",
              "      <td>30</td>\n",
              "      <td>https://cdn.sofifa.net/players/197/445/23_60.png</td>\n",
              "      <td>Austria</td>\n",
              "      <td>https://cdn.sofifa.net/flags/at.png</td>\n",
              "      <td>86</td>\n",
              "      <td>86</td>\n",
              "      <td>Real Madrid CF</td>\n",
              "      <td>https://cdn.sofifa.net/teams/243/30.png</td>\n",
              "      <td>...</td>\n",
              "      <td>Yes</td>\n",
              "      <td>LCB</td>\n",
              "      <td>Jul 1, 2021</td>\n",
              "      <td>NaN</td>\n",
              "      <td>2026</td>\n",
              "      <td>180cm</td>\n",
              "      <td>78kg</td>\n",
              "      <td>€113.8M</td>\n",
              "      <td>4.0</td>\n",
              "      <td>NaN</td>\n",
              "    </tr>\n",
              "    <tr>\n",
              "      <th>9</th>\n",
              "      <td>210514</td>\n",
              "      <td>João Cancelo</td>\n",
              "      <td>28</td>\n",
              "      <td>https://cdn.sofifa.net/players/210/514/23_60.png</td>\n",
              "      <td>Portugal</td>\n",
              "      <td>https://cdn.sofifa.net/flags/pt.png</td>\n",
              "      <td>88</td>\n",
              "      <td>88</td>\n",
              "      <td>Manchester City</td>\n",
              "      <td>https://cdn.sofifa.net/teams/10/30.png</td>\n",
              "      <td>...</td>\n",
              "      <td>Yes</td>\n",
              "      <td>LB</td>\n",
              "      <td>Aug 7, 2019</td>\n",
              "      <td>NaN</td>\n",
              "      <td>2027</td>\n",
              "      <td>182cm</td>\n",
              "      <td>74kg</td>\n",
              "      <td>€152.6M</td>\n",
              "      <td>7.0</td>\n",
              "      <td>NaN</td>\n",
              "    </tr>\n",
              "    <tr>\n",
              "      <th>19</th>\n",
              "      <td>193082</td>\n",
              "      <td>J. Cuadrado</td>\n",
              "      <td>34</td>\n",
              "      <td>https://cdn.sofifa.net/players/193/082/23_60.png</td>\n",
              "      <td>Colombia</td>\n",
              "      <td>https://cdn.sofifa.net/flags/co.png</td>\n",
              "      <td>83</td>\n",
              "      <td>83</td>\n",
              "      <td>Juventus</td>\n",
              "      <td>https://cdn.sofifa.net/teams/45/30.png</td>\n",
              "      <td>...</td>\n",
              "      <td>Yes</td>\n",
              "      <td>RB</td>\n",
              "      <td>Jul 1, 2017</td>\n",
              "      <td>NaN</td>\n",
              "      <td>2023</td>\n",
              "      <td>179cm</td>\n",
              "      <td>72kg</td>\n",
              "      <td>€23M</td>\n",
              "      <td>11.0</td>\n",
              "      <td>NaN</td>\n",
              "    </tr>\n",
              "    <tr>\n",
              "      <th>21</th>\n",
              "      <td>231281</td>\n",
              "      <td>T. Alexander-Arnold</td>\n",
              "      <td>23</td>\n",
              "      <td>https://cdn.sofifa.net/players/231/281/23_60.png</td>\n",
              "      <td>England</td>\n",
              "      <td>https://cdn.sofifa.net/flags/gb-eng.png</td>\n",
              "      <td>87</td>\n",
              "      <td>90</td>\n",
              "      <td>Liverpool</td>\n",
              "      <td>https://cdn.sofifa.net/teams/9/30.png</td>\n",
              "      <td>...</td>\n",
              "      <td>Yes</td>\n",
              "      <td>RB</td>\n",
              "      <td>Oct 7, 2015</td>\n",
              "      <td>NaN</td>\n",
              "      <td>2025</td>\n",
              "      <td>180cm</td>\n",
              "      <td>69kg</td>\n",
              "      <td>€193.5M</td>\n",
              "      <td>66.0</td>\n",
              "      <td>NaN</td>\n",
              "    </tr>\n",
              "  </tbody>\n",
              "</table>\n",
              "<p>5 rows × 29 columns</p>\n",
              "</div>\n",
              "      <button class=\"colab-df-convert\" onclick=\"convertToInteractive('df-287de711-7d71-446f-aed7-9f8c02ecab28')\"\n",
              "              title=\"Convert this dataframe to an interactive table.\"\n",
              "              style=\"display:none;\">\n",
              "        \n",
              "  <svg xmlns=\"http://www.w3.org/2000/svg\" height=\"24px\"viewBox=\"0 0 24 24\"\n",
              "       width=\"24px\">\n",
              "    <path d=\"M0 0h24v24H0V0z\" fill=\"none\"/>\n",
              "    <path d=\"M18.56 5.44l.94 2.06.94-2.06 2.06-.94-2.06-.94-.94-2.06-.94 2.06-2.06.94zm-11 1L8.5 8.5l.94-2.06 2.06-.94-2.06-.94L8.5 2.5l-.94 2.06-2.06.94zm10 10l.94 2.06.94-2.06 2.06-.94-2.06-.94-.94-2.06-.94 2.06-2.06.94z\"/><path d=\"M17.41 7.96l-1.37-1.37c-.4-.4-.92-.59-1.43-.59-.52 0-1.04.2-1.43.59L10.3 9.45l-7.72 7.72c-.78.78-.78 2.05 0 2.83L4 21.41c.39.39.9.59 1.41.59.51 0 1.02-.2 1.41-.59l7.78-7.78 2.81-2.81c.8-.78.8-2.07 0-2.86zM5.41 20L4 18.59l7.72-7.72 1.47 1.35L5.41 20z\"/>\n",
              "  </svg>\n",
              "      </button>\n",
              "      \n",
              "  <style>\n",
              "    .colab-df-container {\n",
              "      display:flex;\n",
              "      flex-wrap:wrap;\n",
              "      gap: 12px;\n",
              "    }\n",
              "\n",
              "    .colab-df-convert {\n",
              "      background-color: #E8F0FE;\n",
              "      border: none;\n",
              "      border-radius: 50%;\n",
              "      cursor: pointer;\n",
              "      display: none;\n",
              "      fill: #1967D2;\n",
              "      height: 32px;\n",
              "      padding: 0 0 0 0;\n",
              "      width: 32px;\n",
              "    }\n",
              "\n",
              "    .colab-df-convert:hover {\n",
              "      background-color: #E2EBFA;\n",
              "      box-shadow: 0px 1px 2px rgba(60, 64, 67, 0.3), 0px 1px 3px 1px rgba(60, 64, 67, 0.15);\n",
              "      fill: #174EA6;\n",
              "    }\n",
              "\n",
              "    [theme=dark] .colab-df-convert {\n",
              "      background-color: #3B4455;\n",
              "      fill: #D2E3FC;\n",
              "    }\n",
              "\n",
              "    [theme=dark] .colab-df-convert:hover {\n",
              "      background-color: #434B5C;\n",
              "      box-shadow: 0px 1px 3px 1px rgba(0, 0, 0, 0.15);\n",
              "      filter: drop-shadow(0px 1px 2px rgba(0, 0, 0, 0.3));\n",
              "      fill: #FFFFFF;\n",
              "    }\n",
              "  </style>\n",
              "\n",
              "      <script>\n",
              "        const buttonEl =\n",
              "          document.querySelector('#df-287de711-7d71-446f-aed7-9f8c02ecab28 button.colab-df-convert');\n",
              "        buttonEl.style.display =\n",
              "          google.colab.kernel.accessAllowed ? 'block' : 'none';\n",
              "\n",
              "        async function convertToInteractive(key) {\n",
              "          const element = document.querySelector('#df-287de711-7d71-446f-aed7-9f8c02ecab28');\n",
              "          const dataTable =\n",
              "            await google.colab.kernel.invokeFunction('convertToInteractive',\n",
              "                                                     [key], {});\n",
              "          if (!dataTable) return;\n",
              "\n",
              "          const docLinkHtml = 'Like what you see? Visit the ' +\n",
              "            '<a target=\"_blank\" href=https://colab.research.google.com/notebooks/data_table.ipynb>data table notebook</a>'\n",
              "            + ' to learn more about interactive tables.';\n",
              "          element.innerHTML = '';\n",
              "          dataTable['output_type'] = 'display_data';\n",
              "          await google.colab.output.renderOutput(dataTable, element);\n",
              "          const docLink = document.createElement('div');\n",
              "          docLink.innerHTML = docLinkHtml;\n",
              "          element.appendChild(docLink);\n",
              "        }\n",
              "      </script>\n",
              "    </div>\n",
              "  </div>\n",
              "  "
            ]
          },
          "metadata": {},
          "execution_count": 566
        }
      ]
    },
    {
      "cell_type": "markdown",
      "source": [
        "#Forwards Dataset"
      ],
      "metadata": {
        "id": "-7yoirkOLfFn"
      }
    },
    {
      "cell_type": "code",
      "source": [
        "midOut = [i for i in positions if i not in mid_positions]"
      ],
      "metadata": {
        "id": "Jbk-YWeuMbW1"
      },
      "execution_count": 567,
      "outputs": []
    },
    {
      "cell_type": "code",
      "source": [
        "defOut_midOut = [i for i in midOut if i not in def_positions]\n",
        "\n",
        "fwd_positions = [i for i in defOut_midOut if i not in gk_positions]"
      ],
      "metadata": {
        "id": "NIUFTp1HMhAb"
      },
      "execution_count": 568,
      "outputs": []
    },
    {
      "cell_type": "code",
      "source": [
        "fwd_positions"
      ],
      "metadata": {
        "colab": {
          "base_uri": "https://localhost:8080/"
        },
        "id": "F05Hu8o9NUQI",
        "outputId": "6fd65ca1-5d81-4e45-81ad-6d08fbe0e222"
      },
      "execution_count": 569,
      "outputs": [
        {
          "output_type": "execute_result",
          "data": {
            "text/plain": [
              "['SUB', 'RS', 'LS', 'RW', 'LF', 'ST', 'RES', 'LW', 'CF', 'RF']"
            ]
          },
          "metadata": {},
          "execution_count": 569
        }
      ]
    },
    {
      "cell_type": "code",
      "source": [
        "len(fwd_positions)"
      ],
      "metadata": {
        "colab": {
          "base_uri": "https://localhost:8080/"
        },
        "id": "HkmCy-WCN9oX",
        "outputId": "84511c73-7a37-4b68-84d8-6584d09774b9"
      },
      "execution_count": 570,
      "outputs": [
        {
          "output_type": "execute_result",
          "data": {
            "text/plain": [
              "10"
            ]
          },
          "metadata": {},
          "execution_count": 570
        }
      ]
    },
    {
      "cell_type": "markdown",
      "source": [
        "We have 10 forward positions"
      ],
      "metadata": {
        "id": "60B1HSPLOdjA"
      }
    },
    {
      "cell_type": "code",
      "source": [
        "df_fwds = df[df['Position'].str.contains('|'.join(fwd_positions))]"
      ],
      "metadata": {
        "id": "ZAbtDQNLOY0w"
      },
      "execution_count": 571,
      "outputs": []
    },
    {
      "cell_type": "code",
      "source": [
        "p = df_fwds['Position'].unique()\n",
        "\n",
        "print(p)"
      ],
      "metadata": {
        "colab": {
          "base_uri": "https://localhost:8080/"
        },
        "id": "XcHueOA7SkiB",
        "outputId": "3c9e7b5b-dd87-4a02-acc7-f2cc3fa3be59"
      },
      "execution_count": 572,
      "outputs": [
        {
          "output_type": "stream",
          "name": "stdout",
          "text": [
            "['SUB' 'RS' 'LS' 'RWB' 'RW' 'LF' 'LWB' 'ST' 'RES' 'LW' 'CF' 'RF']\n"
          ]
        }
      ]
    },
    {
      "cell_type": "markdown",
      "source": [
        "Somehow this function still leaves RWB and LWB positions in forwards dataset so we will remove that manually."
      ],
      "metadata": {
        "id": "Z8tiCLGISl9E"
      }
    },
    {
      "cell_type": "code",
      "source": [
        "df_fwds = df_fwds[df_fwds[\"Position\"].str.contains(\"LWB\") == False]\n",
        "\n",
        "\n",
        "df_fwds = df_fwds[df_fwds[\"Position\"].str.contains(\"RWB\") == False]"
      ],
      "metadata": {
        "id": "hswdYX7ySxCA"
      },
      "execution_count": 573,
      "outputs": []
    },
    {
      "cell_type": "code",
      "source": [
        "p = df_fwds['Position'].unique()\n",
        "\n",
        "print(p)"
      ],
      "metadata": {
        "colab": {
          "base_uri": "https://localhost:8080/"
        },
        "id": "hhHdryJFS4ac",
        "outputId": "2f54f146-1414-4792-c2c4-e4719dd5abc0"
      },
      "execution_count": 574,
      "outputs": [
        {
          "output_type": "stream",
          "name": "stdout",
          "text": [
            "['SUB' 'RS' 'LS' 'RW' 'LF' 'ST' 'RES' 'LW' 'CF' 'RF']\n"
          ]
        }
      ]
    },
    {
      "cell_type": "code",
      "source": [
        "len(p)"
      ],
      "metadata": {
        "colab": {
          "base_uri": "https://localhost:8080/"
        },
        "id": "QFo5wPPZS74S",
        "outputId": "9b8ac824-71f8-49ae-ae1f-934125625c8f"
      },
      "execution_count": 575,
      "outputs": [
        {
          "output_type": "execute_result",
          "data": {
            "text/plain": [
              "10"
            ]
          },
          "metadata": {},
          "execution_count": 575
        }
      ]
    },
    {
      "cell_type": "markdown",
      "source": [
        "Now it removed those positions. Let's check our dataset's shape."
      ],
      "metadata": {
        "id": "jGcNwTlETA22"
      }
    },
    {
      "cell_type": "code",
      "source": [
        "df_fwds.shape"
      ],
      "metadata": {
        "colab": {
          "base_uri": "https://localhost:8080/"
        },
        "id": "lldWHtP4O1l6",
        "outputId": "6dbe12d4-9aec-4299-e3f2-bea9672fa05e"
      },
      "execution_count": 576,
      "outputs": [
        {
          "output_type": "execute_result",
          "data": {
            "text/plain": [
              "(13655, 29)"
            ]
          },
          "metadata": {},
          "execution_count": 576
        }
      ]
    },
    {
      "cell_type": "code",
      "source": [
        "df_fwds['Position'].head(5)"
      ],
      "metadata": {
        "colab": {
          "base_uri": "https://localhost:8080/"
        },
        "id": "siBd6-SQO4AP",
        "outputId": "1ceb5f57-082a-45a9-fa73-ca75dcea9eed"
      },
      "execution_count": 577,
      "outputs": [
        {
          "output_type": "execute_result",
          "data": {
            "text/plain": [
              "0     SUB\n",
              "8     SUB\n",
              "15    SUB\n",
              "16    SUB\n",
              "18     RS\n",
              "Name: Position, dtype: object"
            ]
          },
          "metadata": {},
          "execution_count": 577
        }
      ]
    },
    {
      "cell_type": "code",
      "source": [
        "df_fwds.head()"
      ],
      "metadata": {
        "colab": {
          "base_uri": "https://localhost:8080/",
          "height": 0
        },
        "id": "LOw7DP9pO8jw",
        "outputId": "b6102090-16f0-406e-ef72-fd0f9f445353"
      },
      "execution_count": 578,
      "outputs": [
        {
          "output_type": "execute_result",
          "data": {
            "text/plain": [
              "        ID          Name  Age  \\\n",
              "0   209658   L. Goretzka   27   \n",
              "8   208333        E. Can   28   \n",
              "15  212616    R. De Paul   28   \n",
              "16  181458    I. Perišić   33   \n",
              "18  194765  A. Griezmann   31   \n",
              "\n",
              "                                               Photo Nationality  \\\n",
              "0   https://cdn.sofifa.net/players/209/658/23_60.png     Germany   \n",
              "8   https://cdn.sofifa.net/players/208/333/23_60.png     Germany   \n",
              "15  https://cdn.sofifa.net/players/212/616/23_60.png   Argentina   \n",
              "16  https://cdn.sofifa.net/players/181/458/23_60.png     Croatia   \n",
              "18  https://cdn.sofifa.net/players/194/765/23_60.png      France   \n",
              "\n",
              "                                   Flag  Overall  Potential  \\\n",
              "0   https://cdn.sofifa.net/flags/de.png       87         88   \n",
              "8   https://cdn.sofifa.net/flags/de.png       82         82   \n",
              "15  https://cdn.sofifa.net/flags/ar.png       84         84   \n",
              "16  https://cdn.sofifa.net/flags/hr.png       84         84   \n",
              "18  https://cdn.sofifa.net/flags/fr.png       83         83   \n",
              "\n",
              "                  Club                                Club Logo  ...  \\\n",
              "0    FC Bayern München   https://cdn.sofifa.net/teams/21/30.png  ...   \n",
              "8    Borussia Dortmund   https://cdn.sofifa.net/teams/22/30.png  ...   \n",
              "15  Atlético de Madrid  https://cdn.sofifa.net/teams/240/30.png  ...   \n",
              "16   Tottenham Hotspur   https://cdn.sofifa.net/teams/18/30.png  ...   \n",
              "18  Atlético de Madrid  https://cdn.sofifa.net/teams/240/30.png  ...   \n",
              "\n",
              "   Real Face Position        Joined  \\\n",
              "0        Yes      SUB   Jul 1, 2018   \n",
              "8        Yes      SUB  Feb 18, 2020   \n",
              "15        No      SUB  Jul 12, 2021   \n",
              "16       Yes      SUB   Jul 1, 2022   \n",
              "18       Yes       RS           NaN   \n",
              "\n",
              "                                          Loaned From  Contract Valid Until  \\\n",
              "0                                                 NaN                  2026   \n",
              "8                                                 NaN                  2024   \n",
              "15                                                NaN                  2026   \n",
              "16                                                NaN                  2024   \n",
              "18  <a href=\"/team/241/fc-barcelona/\">FC Barcelona...          Jun 30, 2023   \n",
              "\n",
              "    Height  Weight Release Clause Kit Number Best Overall Rating  \n",
              "0    189cm    82kg          €157M        8.0                 NaN  \n",
              "8    186cm    86kg         €51.9M       23.0                 NaN  \n",
              "15   180cm    70kg         €86.1M        5.0                 NaN  \n",
              "16   186cm    80kg         €50.4M       14.0                 NaN  \n",
              "18   176cm    73kg            NaN        8.0                 NaN  \n",
              "\n",
              "[5 rows x 29 columns]"
            ],
            "text/html": [
              "\n",
              "  <div id=\"df-cce6b2c4-991c-4d01-9552-75781553f9ae\">\n",
              "    <div class=\"colab-df-container\">\n",
              "      <div>\n",
              "<style scoped>\n",
              "    .dataframe tbody tr th:only-of-type {\n",
              "        vertical-align: middle;\n",
              "    }\n",
              "\n",
              "    .dataframe tbody tr th {\n",
              "        vertical-align: top;\n",
              "    }\n",
              "\n",
              "    .dataframe thead th {\n",
              "        text-align: right;\n",
              "    }\n",
              "</style>\n",
              "<table border=\"1\" class=\"dataframe\">\n",
              "  <thead>\n",
              "    <tr style=\"text-align: right;\">\n",
              "      <th></th>\n",
              "      <th>ID</th>\n",
              "      <th>Name</th>\n",
              "      <th>Age</th>\n",
              "      <th>Photo</th>\n",
              "      <th>Nationality</th>\n",
              "      <th>Flag</th>\n",
              "      <th>Overall</th>\n",
              "      <th>Potential</th>\n",
              "      <th>Club</th>\n",
              "      <th>Club Logo</th>\n",
              "      <th>...</th>\n",
              "      <th>Real Face</th>\n",
              "      <th>Position</th>\n",
              "      <th>Joined</th>\n",
              "      <th>Loaned From</th>\n",
              "      <th>Contract Valid Until</th>\n",
              "      <th>Height</th>\n",
              "      <th>Weight</th>\n",
              "      <th>Release Clause</th>\n",
              "      <th>Kit Number</th>\n",
              "      <th>Best Overall Rating</th>\n",
              "    </tr>\n",
              "  </thead>\n",
              "  <tbody>\n",
              "    <tr>\n",
              "      <th>0</th>\n",
              "      <td>209658</td>\n",
              "      <td>L. Goretzka</td>\n",
              "      <td>27</td>\n",
              "      <td>https://cdn.sofifa.net/players/209/658/23_60.png</td>\n",
              "      <td>Germany</td>\n",
              "      <td>https://cdn.sofifa.net/flags/de.png</td>\n",
              "      <td>87</td>\n",
              "      <td>88</td>\n",
              "      <td>FC Bayern München</td>\n",
              "      <td>https://cdn.sofifa.net/teams/21/30.png</td>\n",
              "      <td>...</td>\n",
              "      <td>Yes</td>\n",
              "      <td>SUB</td>\n",
              "      <td>Jul 1, 2018</td>\n",
              "      <td>NaN</td>\n",
              "      <td>2026</td>\n",
              "      <td>189cm</td>\n",
              "      <td>82kg</td>\n",
              "      <td>€157M</td>\n",
              "      <td>8.0</td>\n",
              "      <td>NaN</td>\n",
              "    </tr>\n",
              "    <tr>\n",
              "      <th>8</th>\n",
              "      <td>208333</td>\n",
              "      <td>E. Can</td>\n",
              "      <td>28</td>\n",
              "      <td>https://cdn.sofifa.net/players/208/333/23_60.png</td>\n",
              "      <td>Germany</td>\n",
              "      <td>https://cdn.sofifa.net/flags/de.png</td>\n",
              "      <td>82</td>\n",
              "      <td>82</td>\n",
              "      <td>Borussia Dortmund</td>\n",
              "      <td>https://cdn.sofifa.net/teams/22/30.png</td>\n",
              "      <td>...</td>\n",
              "      <td>Yes</td>\n",
              "      <td>SUB</td>\n",
              "      <td>Feb 18, 2020</td>\n",
              "      <td>NaN</td>\n",
              "      <td>2024</td>\n",
              "      <td>186cm</td>\n",
              "      <td>86kg</td>\n",
              "      <td>€51.9M</td>\n",
              "      <td>23.0</td>\n",
              "      <td>NaN</td>\n",
              "    </tr>\n",
              "    <tr>\n",
              "      <th>15</th>\n",
              "      <td>212616</td>\n",
              "      <td>R. De Paul</td>\n",
              "      <td>28</td>\n",
              "      <td>https://cdn.sofifa.net/players/212/616/23_60.png</td>\n",
              "      <td>Argentina</td>\n",
              "      <td>https://cdn.sofifa.net/flags/ar.png</td>\n",
              "      <td>84</td>\n",
              "      <td>84</td>\n",
              "      <td>Atlético de Madrid</td>\n",
              "      <td>https://cdn.sofifa.net/teams/240/30.png</td>\n",
              "      <td>...</td>\n",
              "      <td>No</td>\n",
              "      <td>SUB</td>\n",
              "      <td>Jul 12, 2021</td>\n",
              "      <td>NaN</td>\n",
              "      <td>2026</td>\n",
              "      <td>180cm</td>\n",
              "      <td>70kg</td>\n",
              "      <td>€86.1M</td>\n",
              "      <td>5.0</td>\n",
              "      <td>NaN</td>\n",
              "    </tr>\n",
              "    <tr>\n",
              "      <th>16</th>\n",
              "      <td>181458</td>\n",
              "      <td>I. Perišić</td>\n",
              "      <td>33</td>\n",
              "      <td>https://cdn.sofifa.net/players/181/458/23_60.png</td>\n",
              "      <td>Croatia</td>\n",
              "      <td>https://cdn.sofifa.net/flags/hr.png</td>\n",
              "      <td>84</td>\n",
              "      <td>84</td>\n",
              "      <td>Tottenham Hotspur</td>\n",
              "      <td>https://cdn.sofifa.net/teams/18/30.png</td>\n",
              "      <td>...</td>\n",
              "      <td>Yes</td>\n",
              "      <td>SUB</td>\n",
              "      <td>Jul 1, 2022</td>\n",
              "      <td>NaN</td>\n",
              "      <td>2024</td>\n",
              "      <td>186cm</td>\n",
              "      <td>80kg</td>\n",
              "      <td>€50.4M</td>\n",
              "      <td>14.0</td>\n",
              "      <td>NaN</td>\n",
              "    </tr>\n",
              "    <tr>\n",
              "      <th>18</th>\n",
              "      <td>194765</td>\n",
              "      <td>A. Griezmann</td>\n",
              "      <td>31</td>\n",
              "      <td>https://cdn.sofifa.net/players/194/765/23_60.png</td>\n",
              "      <td>France</td>\n",
              "      <td>https://cdn.sofifa.net/flags/fr.png</td>\n",
              "      <td>83</td>\n",
              "      <td>83</td>\n",
              "      <td>Atlético de Madrid</td>\n",
              "      <td>https://cdn.sofifa.net/teams/240/30.png</td>\n",
              "      <td>...</td>\n",
              "      <td>Yes</td>\n",
              "      <td>RS</td>\n",
              "      <td>NaN</td>\n",
              "      <td>&lt;a href=\"/team/241/fc-barcelona/\"&gt;FC Barcelona...</td>\n",
              "      <td>Jun 30, 2023</td>\n",
              "      <td>176cm</td>\n",
              "      <td>73kg</td>\n",
              "      <td>NaN</td>\n",
              "      <td>8.0</td>\n",
              "      <td>NaN</td>\n",
              "    </tr>\n",
              "  </tbody>\n",
              "</table>\n",
              "<p>5 rows × 29 columns</p>\n",
              "</div>\n",
              "      <button class=\"colab-df-convert\" onclick=\"convertToInteractive('df-cce6b2c4-991c-4d01-9552-75781553f9ae')\"\n",
              "              title=\"Convert this dataframe to an interactive table.\"\n",
              "              style=\"display:none;\">\n",
              "        \n",
              "  <svg xmlns=\"http://www.w3.org/2000/svg\" height=\"24px\"viewBox=\"0 0 24 24\"\n",
              "       width=\"24px\">\n",
              "    <path d=\"M0 0h24v24H0V0z\" fill=\"none\"/>\n",
              "    <path d=\"M18.56 5.44l.94 2.06.94-2.06 2.06-.94-2.06-.94-.94-2.06-.94 2.06-2.06.94zm-11 1L8.5 8.5l.94-2.06 2.06-.94-2.06-.94L8.5 2.5l-.94 2.06-2.06.94zm10 10l.94 2.06.94-2.06 2.06-.94-2.06-.94-.94-2.06-.94 2.06-2.06.94z\"/><path d=\"M17.41 7.96l-1.37-1.37c-.4-.4-.92-.59-1.43-.59-.52 0-1.04.2-1.43.59L10.3 9.45l-7.72 7.72c-.78.78-.78 2.05 0 2.83L4 21.41c.39.39.9.59 1.41.59.51 0 1.02-.2 1.41-.59l7.78-7.78 2.81-2.81c.8-.78.8-2.07 0-2.86zM5.41 20L4 18.59l7.72-7.72 1.47 1.35L5.41 20z\"/>\n",
              "  </svg>\n",
              "      </button>\n",
              "      \n",
              "  <style>\n",
              "    .colab-df-container {\n",
              "      display:flex;\n",
              "      flex-wrap:wrap;\n",
              "      gap: 12px;\n",
              "    }\n",
              "\n",
              "    .colab-df-convert {\n",
              "      background-color: #E8F0FE;\n",
              "      border: none;\n",
              "      border-radius: 50%;\n",
              "      cursor: pointer;\n",
              "      display: none;\n",
              "      fill: #1967D2;\n",
              "      height: 32px;\n",
              "      padding: 0 0 0 0;\n",
              "      width: 32px;\n",
              "    }\n",
              "\n",
              "    .colab-df-convert:hover {\n",
              "      background-color: #E2EBFA;\n",
              "      box-shadow: 0px 1px 2px rgba(60, 64, 67, 0.3), 0px 1px 3px 1px rgba(60, 64, 67, 0.15);\n",
              "      fill: #174EA6;\n",
              "    }\n",
              "\n",
              "    [theme=dark] .colab-df-convert {\n",
              "      background-color: #3B4455;\n",
              "      fill: #D2E3FC;\n",
              "    }\n",
              "\n",
              "    [theme=dark] .colab-df-convert:hover {\n",
              "      background-color: #434B5C;\n",
              "      box-shadow: 0px 1px 3px 1px rgba(0, 0, 0, 0.15);\n",
              "      filter: drop-shadow(0px 1px 2px rgba(0, 0, 0, 0.3));\n",
              "      fill: #FFFFFF;\n",
              "    }\n",
              "  </style>\n",
              "\n",
              "      <script>\n",
              "        const buttonEl =\n",
              "          document.querySelector('#df-cce6b2c4-991c-4d01-9552-75781553f9ae button.colab-df-convert');\n",
              "        buttonEl.style.display =\n",
              "          google.colab.kernel.accessAllowed ? 'block' : 'none';\n",
              "\n",
              "        async function convertToInteractive(key) {\n",
              "          const element = document.querySelector('#df-cce6b2c4-991c-4d01-9552-75781553f9ae');\n",
              "          const dataTable =\n",
              "            await google.colab.kernel.invokeFunction('convertToInteractive',\n",
              "                                                     [key], {});\n",
              "          if (!dataTable) return;\n",
              "\n",
              "          const docLinkHtml = 'Like what you see? Visit the ' +\n",
              "            '<a target=\"_blank\" href=https://colab.research.google.com/notebooks/data_table.ipynb>data table notebook</a>'\n",
              "            + ' to learn more about interactive tables.';\n",
              "          element.innerHTML = '';\n",
              "          dataTable['output_type'] = 'display_data';\n",
              "          await google.colab.output.renderOutput(dataTable, element);\n",
              "          const docLink = document.createElement('div');\n",
              "          docLink.innerHTML = docLinkHtml;\n",
              "          element.appendChild(docLink);\n",
              "        }\n",
              "      </script>\n",
              "    </div>\n",
              "  </div>\n",
              "  "
            ]
          },
          "metadata": {},
          "execution_count": 578
        }
      ]
    },
    {
      "cell_type": "markdown",
      "source": [
        "#Total datasets"
      ],
      "metadata": {
        "id": "kHxRXIH5PLa2"
      }
    },
    {
      "cell_type": "code",
      "source": [
        "df.shape"
      ],
      "metadata": {
        "colab": {
          "base_uri": "https://localhost:8080/"
        },
        "id": "-I_1Llb8PCRu",
        "outputId": "cc71aadc-9813-442b-b842-b29d926d9022"
      },
      "execution_count": 579,
      "outputs": [
        {
          "output_type": "execute_result",
          "data": {
            "text/plain": [
              "(17625, 29)"
            ]
          },
          "metadata": {},
          "execution_count": 579
        }
      ]
    },
    {
      "cell_type": "code",
      "source": [
        "df_fwds.shape[0] + df_defs.shape[0] + df_mids.shape[0] + df_gks.shape[0]"
      ],
      "metadata": {
        "colab": {
          "base_uri": "https://localhost:8080/"
        },
        "id": "LWGdM7b0PQsu",
        "outputId": "8680b80f-6f59-41a0-ce3b-6705e9250775"
      },
      "execution_count": 580,
      "outputs": [
        {
          "output_type": "execute_result",
          "data": {
            "text/plain": [
              "17625"
            ]
          },
          "metadata": {},
          "execution_count": 580
        }
      ]
    },
    {
      "cell_type": "markdown",
      "source": [
        "We have manually confirmed now that the sum of our all sub-datasets is equal to our original dataset."
      ],
      "metadata": {
        "id": "-1yaq0y7TQYD"
      }
    },
    {
      "cell_type": "code",
      "source": [],
      "metadata": {
        "id": "UsSRNIO8STWO"
      },
      "execution_count": 580,
      "outputs": []
    },
    {
      "cell_type": "markdown",
      "source": [
        "#`Club` column"
      ],
      "metadata": {
        "id": "esGFVF7nUhg-"
      }
    },
    {
      "cell_type": "code",
      "source": [
        "col_names = df.columns.values"
      ],
      "metadata": {
        "id": "kKkEvU50UjZ-"
      },
      "execution_count": 581,
      "outputs": []
    },
    {
      "cell_type": "code",
      "source": [
        "len(col_names)"
      ],
      "metadata": {
        "colab": {
          "base_uri": "https://localhost:8080/"
        },
        "id": "hSp82OctUvOa",
        "outputId": "a41159a3-32e0-4b36-80ef-cb22616d0cd9"
      },
      "execution_count": 582,
      "outputs": [
        {
          "output_type": "execute_result",
          "data": {
            "text/plain": [
              "29"
            ]
          },
          "metadata": {},
          "execution_count": 582
        }
      ]
    },
    {
      "cell_type": "code",
      "source": [
        "print(col_names)"
      ],
      "metadata": {
        "colab": {
          "base_uri": "https://localhost:8080/"
        },
        "id": "Rn6jLj1YU0gR",
        "outputId": "b2c9079d-677b-4a9a-dd3f-8e9b991cb37f"
      },
      "execution_count": 583,
      "outputs": [
        {
          "output_type": "stream",
          "name": "stdout",
          "text": [
            "['ID' 'Name' 'Age' 'Photo' 'Nationality' 'Flag' 'Overall' 'Potential'\n",
            " 'Club' 'Club Logo' 'Value' 'Wage' 'Special' 'Preferred Foot'\n",
            " 'International Reputation' 'Weak Foot' 'Skill Moves' 'Work Rate'\n",
            " 'Body Type' 'Real Face' 'Position' 'Joined' 'Loaned From'\n",
            " 'Contract Valid Until' 'Height' 'Weight' 'Release Clause' 'Kit Number'\n",
            " 'Best Overall Rating']\n"
          ]
        }
      ]
    },
    {
      "cell_type": "markdown",
      "source": [
        "We will move from left to right in column array and check every column."
      ],
      "metadata": {
        "id": "AzZNQ5CfU6VW"
      }
    },
    {
      "cell_type": "code",
      "source": [
        "df['Club'].isnull().sum()"
      ],
      "metadata": {
        "colab": {
          "base_uri": "https://localhost:8080/"
        },
        "id": "hOAFNh5FU1RU",
        "outputId": "65b20cb5-d325-4e74-b919-fe9af91a3534"
      },
      "execution_count": 584,
      "outputs": [
        {
          "output_type": "execute_result",
          "data": {
            "text/plain": [
              "177"
            ]
          },
          "metadata": {},
          "execution_count": 584
        }
      ]
    },
    {
      "cell_type": "code",
      "source": [
        "a = df[df['Club'].isna()]\n",
        "\n",
        "a.shape"
      ],
      "metadata": {
        "colab": {
          "base_uri": "https://localhost:8080/"
        },
        "id": "6pSWbDpDVOey",
        "outputId": "64dc71af-c9ef-4f98-c845-a615b64fffa6"
      },
      "execution_count": 585,
      "outputs": [
        {
          "output_type": "execute_result",
          "data": {
            "text/plain": [
              "(177, 29)"
            ]
          },
          "metadata": {},
          "execution_count": 585
        }
      ]
    },
    {
      "cell_type": "code",
      "source": [
        "a.head(5)"
      ],
      "metadata": {
        "colab": {
          "base_uri": "https://localhost:8080/",
          "height": 0
        },
        "id": "-7LKGPwxWI8N",
        "outputId": "3ced32d7-4556-49b9-bfea-84f8960d4312"
      },
      "execution_count": 586,
      "outputs": [
        {
          "output_type": "execute_result",
          "data": {
            "text/plain": [
              "         ID               Name  Age  \\\n",
              "162  146562   21 Santi Cazorla   35   \n",
              "383  245308        21 M. Nérez   32   \n",
              "435  176571            A. Ayew   32   \n",
              "463  201922  22 M. Hinteregger   28   \n",
              "497  203890        Š. Vrsaljko   30   \n",
              "\n",
              "                                                Photo Nationality  \\\n",
              "162  https://cdn.sofifa.net/players/146/562/21_60.png       Spain   \n",
              "383  https://cdn.sofifa.net/players/245/308/21_60.png     Uruguay   \n",
              "435  https://cdn.sofifa.net/players/176/571/23_60.png       Ghana   \n",
              "463  https://cdn.sofifa.net/players/201/922/22_60.png     Austria   \n",
              "497  https://cdn.sofifa.net/players/203/890/23_60.png     Croatia   \n",
              "\n",
              "                                    Flag  Overall  Potential Club  \\\n",
              "162  https://cdn.sofifa.net/flags/es.png       82         82  NaN   \n",
              "383  https://cdn.sofifa.net/flags/uy.png       80         80  NaN   \n",
              "435  https://cdn.sofifa.net/flags/gh.png       75         75  NaN   \n",
              "463  https://cdn.sofifa.net/flags/at.png       79         79  NaN   \n",
              "497  https://cdn.sofifa.net/flags/hr.png       79         79  NaN   \n",
              "\n",
              "                               Club Logo  ... Real Face Position  Joined  \\\n",
              "162  https://cdn.sofifa.net/flags/es.png  ...       Yes      SUB     NaN   \n",
              "383  https://cdn.sofifa.net/flags/uy.png  ...        No       LB     NaN   \n",
              "435  https://cdn.sofifa.net/flags/gh.png  ...       Yes       ST     NaN   \n",
              "463  https://cdn.sofifa.net/flags/at.png  ...       Yes      LCB     NaN   \n",
              "497  https://cdn.sofifa.net/flags/hr.png  ...       Yes       RB     NaN   \n",
              "\n",
              "    Loaned From  Contract Valid Until  Height  Weight Release Clause  \\\n",
              "162         NaN                   NaN   168cm    65kg            NaN   \n",
              "383         NaN                   NaN   178cm    69kg            NaN   \n",
              "435         NaN                   NaN   176cm    72kg            NaN   \n",
              "463         NaN                   NaN   186cm    82kg            NaN   \n",
              "497         NaN                   NaN   181cm    76kg            NaN   \n",
              "\n",
              "    Kit Number Best Overall Rating  \n",
              "162       20.0                 NaN  \n",
              "383        3.0                 NaN  \n",
              "435       10.0                 NaN  \n",
              "463        4.0                 NaN  \n",
              "497        2.0                 NaN  \n",
              "\n",
              "[5 rows x 29 columns]"
            ],
            "text/html": [
              "\n",
              "  <div id=\"df-2593de97-4ffe-487c-a707-280ae2ec0f71\">\n",
              "    <div class=\"colab-df-container\">\n",
              "      <div>\n",
              "<style scoped>\n",
              "    .dataframe tbody tr th:only-of-type {\n",
              "        vertical-align: middle;\n",
              "    }\n",
              "\n",
              "    .dataframe tbody tr th {\n",
              "        vertical-align: top;\n",
              "    }\n",
              "\n",
              "    .dataframe thead th {\n",
              "        text-align: right;\n",
              "    }\n",
              "</style>\n",
              "<table border=\"1\" class=\"dataframe\">\n",
              "  <thead>\n",
              "    <tr style=\"text-align: right;\">\n",
              "      <th></th>\n",
              "      <th>ID</th>\n",
              "      <th>Name</th>\n",
              "      <th>Age</th>\n",
              "      <th>Photo</th>\n",
              "      <th>Nationality</th>\n",
              "      <th>Flag</th>\n",
              "      <th>Overall</th>\n",
              "      <th>Potential</th>\n",
              "      <th>Club</th>\n",
              "      <th>Club Logo</th>\n",
              "      <th>...</th>\n",
              "      <th>Real Face</th>\n",
              "      <th>Position</th>\n",
              "      <th>Joined</th>\n",
              "      <th>Loaned From</th>\n",
              "      <th>Contract Valid Until</th>\n",
              "      <th>Height</th>\n",
              "      <th>Weight</th>\n",
              "      <th>Release Clause</th>\n",
              "      <th>Kit Number</th>\n",
              "      <th>Best Overall Rating</th>\n",
              "    </tr>\n",
              "  </thead>\n",
              "  <tbody>\n",
              "    <tr>\n",
              "      <th>162</th>\n",
              "      <td>146562</td>\n",
              "      <td>21 Santi Cazorla</td>\n",
              "      <td>35</td>\n",
              "      <td>https://cdn.sofifa.net/players/146/562/21_60.png</td>\n",
              "      <td>Spain</td>\n",
              "      <td>https://cdn.sofifa.net/flags/es.png</td>\n",
              "      <td>82</td>\n",
              "      <td>82</td>\n",
              "      <td>NaN</td>\n",
              "      <td>https://cdn.sofifa.net/flags/es.png</td>\n",
              "      <td>...</td>\n",
              "      <td>Yes</td>\n",
              "      <td>SUB</td>\n",
              "      <td>NaN</td>\n",
              "      <td>NaN</td>\n",
              "      <td>NaN</td>\n",
              "      <td>168cm</td>\n",
              "      <td>65kg</td>\n",
              "      <td>NaN</td>\n",
              "      <td>20.0</td>\n",
              "      <td>NaN</td>\n",
              "    </tr>\n",
              "    <tr>\n",
              "      <th>383</th>\n",
              "      <td>245308</td>\n",
              "      <td>21 M. Nérez</td>\n",
              "      <td>32</td>\n",
              "      <td>https://cdn.sofifa.net/players/245/308/21_60.png</td>\n",
              "      <td>Uruguay</td>\n",
              "      <td>https://cdn.sofifa.net/flags/uy.png</td>\n",
              "      <td>80</td>\n",
              "      <td>80</td>\n",
              "      <td>NaN</td>\n",
              "      <td>https://cdn.sofifa.net/flags/uy.png</td>\n",
              "      <td>...</td>\n",
              "      <td>No</td>\n",
              "      <td>LB</td>\n",
              "      <td>NaN</td>\n",
              "      <td>NaN</td>\n",
              "      <td>NaN</td>\n",
              "      <td>178cm</td>\n",
              "      <td>69kg</td>\n",
              "      <td>NaN</td>\n",
              "      <td>3.0</td>\n",
              "      <td>NaN</td>\n",
              "    </tr>\n",
              "    <tr>\n",
              "      <th>435</th>\n",
              "      <td>176571</td>\n",
              "      <td>A. Ayew</td>\n",
              "      <td>32</td>\n",
              "      <td>https://cdn.sofifa.net/players/176/571/23_60.png</td>\n",
              "      <td>Ghana</td>\n",
              "      <td>https://cdn.sofifa.net/flags/gh.png</td>\n",
              "      <td>75</td>\n",
              "      <td>75</td>\n",
              "      <td>NaN</td>\n",
              "      <td>https://cdn.sofifa.net/flags/gh.png</td>\n",
              "      <td>...</td>\n",
              "      <td>Yes</td>\n",
              "      <td>ST</td>\n",
              "      <td>NaN</td>\n",
              "      <td>NaN</td>\n",
              "      <td>NaN</td>\n",
              "      <td>176cm</td>\n",
              "      <td>72kg</td>\n",
              "      <td>NaN</td>\n",
              "      <td>10.0</td>\n",
              "      <td>NaN</td>\n",
              "    </tr>\n",
              "    <tr>\n",
              "      <th>463</th>\n",
              "      <td>201922</td>\n",
              "      <td>22 M. Hinteregger</td>\n",
              "      <td>28</td>\n",
              "      <td>https://cdn.sofifa.net/players/201/922/22_60.png</td>\n",
              "      <td>Austria</td>\n",
              "      <td>https://cdn.sofifa.net/flags/at.png</td>\n",
              "      <td>79</td>\n",
              "      <td>79</td>\n",
              "      <td>NaN</td>\n",
              "      <td>https://cdn.sofifa.net/flags/at.png</td>\n",
              "      <td>...</td>\n",
              "      <td>Yes</td>\n",
              "      <td>LCB</td>\n",
              "      <td>NaN</td>\n",
              "      <td>NaN</td>\n",
              "      <td>NaN</td>\n",
              "      <td>186cm</td>\n",
              "      <td>82kg</td>\n",
              "      <td>NaN</td>\n",
              "      <td>4.0</td>\n",
              "      <td>NaN</td>\n",
              "    </tr>\n",
              "    <tr>\n",
              "      <th>497</th>\n",
              "      <td>203890</td>\n",
              "      <td>Š. Vrsaljko</td>\n",
              "      <td>30</td>\n",
              "      <td>https://cdn.sofifa.net/players/203/890/23_60.png</td>\n",
              "      <td>Croatia</td>\n",
              "      <td>https://cdn.sofifa.net/flags/hr.png</td>\n",
              "      <td>79</td>\n",
              "      <td>79</td>\n",
              "      <td>NaN</td>\n",
              "      <td>https://cdn.sofifa.net/flags/hr.png</td>\n",
              "      <td>...</td>\n",
              "      <td>Yes</td>\n",
              "      <td>RB</td>\n",
              "      <td>NaN</td>\n",
              "      <td>NaN</td>\n",
              "      <td>NaN</td>\n",
              "      <td>181cm</td>\n",
              "      <td>76kg</td>\n",
              "      <td>NaN</td>\n",
              "      <td>2.0</td>\n",
              "      <td>NaN</td>\n",
              "    </tr>\n",
              "  </tbody>\n",
              "</table>\n",
              "<p>5 rows × 29 columns</p>\n",
              "</div>\n",
              "      <button class=\"colab-df-convert\" onclick=\"convertToInteractive('df-2593de97-4ffe-487c-a707-280ae2ec0f71')\"\n",
              "              title=\"Convert this dataframe to an interactive table.\"\n",
              "              style=\"display:none;\">\n",
              "        \n",
              "  <svg xmlns=\"http://www.w3.org/2000/svg\" height=\"24px\"viewBox=\"0 0 24 24\"\n",
              "       width=\"24px\">\n",
              "    <path d=\"M0 0h24v24H0V0z\" fill=\"none\"/>\n",
              "    <path d=\"M18.56 5.44l.94 2.06.94-2.06 2.06-.94-2.06-.94-.94-2.06-.94 2.06-2.06.94zm-11 1L8.5 8.5l.94-2.06 2.06-.94-2.06-.94L8.5 2.5l-.94 2.06-2.06.94zm10 10l.94 2.06.94-2.06 2.06-.94-2.06-.94-.94-2.06-.94 2.06-2.06.94z\"/><path d=\"M17.41 7.96l-1.37-1.37c-.4-.4-.92-.59-1.43-.59-.52 0-1.04.2-1.43.59L10.3 9.45l-7.72 7.72c-.78.78-.78 2.05 0 2.83L4 21.41c.39.39.9.59 1.41.59.51 0 1.02-.2 1.41-.59l7.78-7.78 2.81-2.81c.8-.78.8-2.07 0-2.86zM5.41 20L4 18.59l7.72-7.72 1.47 1.35L5.41 20z\"/>\n",
              "  </svg>\n",
              "      </button>\n",
              "      \n",
              "  <style>\n",
              "    .colab-df-container {\n",
              "      display:flex;\n",
              "      flex-wrap:wrap;\n",
              "      gap: 12px;\n",
              "    }\n",
              "\n",
              "    .colab-df-convert {\n",
              "      background-color: #E8F0FE;\n",
              "      border: none;\n",
              "      border-radius: 50%;\n",
              "      cursor: pointer;\n",
              "      display: none;\n",
              "      fill: #1967D2;\n",
              "      height: 32px;\n",
              "      padding: 0 0 0 0;\n",
              "      width: 32px;\n",
              "    }\n",
              "\n",
              "    .colab-df-convert:hover {\n",
              "      background-color: #E2EBFA;\n",
              "      box-shadow: 0px 1px 2px rgba(60, 64, 67, 0.3), 0px 1px 3px 1px rgba(60, 64, 67, 0.15);\n",
              "      fill: #174EA6;\n",
              "    }\n",
              "\n",
              "    [theme=dark] .colab-df-convert {\n",
              "      background-color: #3B4455;\n",
              "      fill: #D2E3FC;\n",
              "    }\n",
              "\n",
              "    [theme=dark] .colab-df-convert:hover {\n",
              "      background-color: #434B5C;\n",
              "      box-shadow: 0px 1px 3px 1px rgba(0, 0, 0, 0.15);\n",
              "      filter: drop-shadow(0px 1px 2px rgba(0, 0, 0, 0.3));\n",
              "      fill: #FFFFFF;\n",
              "    }\n",
              "  </style>\n",
              "\n",
              "      <script>\n",
              "        const buttonEl =\n",
              "          document.querySelector('#df-2593de97-4ffe-487c-a707-280ae2ec0f71 button.colab-df-convert');\n",
              "        buttonEl.style.display =\n",
              "          google.colab.kernel.accessAllowed ? 'block' : 'none';\n",
              "\n",
              "        async function convertToInteractive(key) {\n",
              "          const element = document.querySelector('#df-2593de97-4ffe-487c-a707-280ae2ec0f71');\n",
              "          const dataTable =\n",
              "            await google.colab.kernel.invokeFunction('convertToInteractive',\n",
              "                                                     [key], {});\n",
              "          if (!dataTable) return;\n",
              "\n",
              "          const docLinkHtml = 'Like what you see? Visit the ' +\n",
              "            '<a target=\"_blank\" href=https://colab.research.google.com/notebooks/data_table.ipynb>data table notebook</a>'\n",
              "            + ' to learn more about interactive tables.';\n",
              "          element.innerHTML = '';\n",
              "          dataTable['output_type'] = 'display_data';\n",
              "          await google.colab.output.renderOutput(dataTable, element);\n",
              "          const docLink = document.createElement('div');\n",
              "          docLink.innerHTML = docLinkHtml;\n",
              "          element.appendChild(docLink);\n",
              "        }\n",
              "      </script>\n",
              "    </div>\n",
              "  </div>\n",
              "  "
            ]
          },
          "metadata": {},
          "execution_count": 586
        }
      ]
    },
    {
      "cell_type": "markdown",
      "source": [
        "A lot of irrelevant players without any club so we will drop them from all our datasets."
      ],
      "metadata": {
        "id": "QYmRw2ueWWu3"
      }
    },
    {
      "cell_type": "code",
      "source": [
        "df = df.dropna(subset=['Club'])\n",
        "\n",
        "df.shape"
      ],
      "metadata": {
        "colab": {
          "base_uri": "https://localhost:8080/"
        },
        "id": "OGkDzvY3WNBJ",
        "outputId": "4daf8f89-853f-4df5-913d-9f2cf5ea9aed"
      },
      "execution_count": 587,
      "outputs": [
        {
          "output_type": "execute_result",
          "data": {
            "text/plain": [
              "(17448, 29)"
            ]
          },
          "metadata": {},
          "execution_count": 587
        }
      ]
    },
    {
      "cell_type": "code",
      "source": [
        "print(df_gks.shape)\n",
        "df_gks = df_gks.dropna(subset=['Club'])\n",
        "print(df_gks.shape)"
      ],
      "metadata": {
        "colab": {
          "base_uri": "https://localhost:8080/"
        },
        "id": "1_BKnMPLYWtT",
        "outputId": "b24989a0-7547-4f04-a69f-9e26b3e169a2"
      },
      "execution_count": 588,
      "outputs": [
        {
          "output_type": "stream",
          "name": "stdout",
          "text": [
            "(376, 29)\n",
            "(368, 29)\n"
          ]
        }
      ]
    },
    {
      "cell_type": "code",
      "source": [
        "print(df_defs.shape)\n",
        "df_defs = df_defs.dropna(subset=['Club'])\n",
        "print(df_defs.shape)\n",
        "\n",
        "print(df_mids.shape)\n",
        "df_mids = df_mids.dropna(subset=['Club'])\n",
        "print(df_mids.shape)\n",
        "\n",
        "print(df_fwds.shape)\n",
        "df_fwds = df_fwds.dropna(subset=['Club'])\n",
        "print(df_fwds.shape)"
      ],
      "metadata": {
        "colab": {
          "base_uri": "https://localhost:8080/"
        },
        "id": "CkkeYEXiYiHN",
        "outputId": "9a9e14f8-2229-4a04-d85a-ac2c023ee5d5"
      },
      "execution_count": 589,
      "outputs": [
        {
          "output_type": "stream",
          "name": "stdout",
          "text": [
            "(1767, 29)\n",
            "(1739, 29)\n",
            "(1827, 29)\n",
            "(1814, 29)\n",
            "(13655, 29)\n",
            "(13527, 29)\n"
          ]
        }
      ]
    },
    {
      "cell_type": "markdown",
      "source": [
        "Checking with boolean."
      ],
      "metadata": {
        "id": "A9khHh0uZWzG"
      }
    },
    {
      "cell_type": "code",
      "source": [
        "df_fwds.shape[0] + df_defs.shape[0] + df_mids.shape[0] + df_gks.shape[0] == df.shape[0]"
      ],
      "metadata": {
        "colab": {
          "base_uri": "https://localhost:8080/"
        },
        "id": "_yTqke9kZN6I",
        "outputId": "9946c88c-d2f6-4f68-f88a-82ac37516682"
      },
      "execution_count": 590,
      "outputs": [
        {
          "output_type": "execute_result",
          "data": {
            "text/plain": [
              "True"
            ]
          },
          "metadata": {},
          "execution_count": 590
        }
      ]
    },
    {
      "cell_type": "markdown",
      "source": [
        "#`Value` column"
      ],
      "metadata": {
        "id": "9gea-VkrZqLR"
      }
    },
    {
      "cell_type": "markdown",
      "source": [
        "Remove Euro sign first and then convert M and K values."
      ],
      "metadata": {
        "id": "Bc7-PWCnUecc"
      }
    },
    {
      "cell_type": "code",
      "source": [
        "df['Value'].head(5)"
      ],
      "metadata": {
        "colab": {
          "base_uri": "https://localhost:8080/"
        },
        "id": "BOR0-YTGZ5e8",
        "outputId": "de91236b-bb9c-4593-a3ee-a4bbe370c46e"
      },
      "execution_count": 591,
      "outputs": [
        {
          "output_type": "execute_result",
          "data": {
            "text/plain": [
              "0       €91M\n",
              "1     €78.5M\n",
              "2     €46.5M\n",
              "3    €107.5M\n",
              "4     €89.5M\n",
              "Name: Value, dtype: object"
            ]
          },
          "metadata": {},
          "execution_count": 591
        }
      ]
    },
    {
      "cell_type": "code",
      "source": [
        "df['Value'].str.contains('€').sum() == df.shape[0]"
      ],
      "metadata": {
        "id": "CoUGM2zRZ9GS",
        "colab": {
          "base_uri": "https://localhost:8080/"
        },
        "outputId": "4dc6660a-4ce6-4a0f-f651-cf0113a2b167"
      },
      "execution_count": 592,
      "outputs": [
        {
          "output_type": "execute_result",
          "data": {
            "text/plain": [
              "True"
            ]
          },
          "metadata": {},
          "execution_count": 592
        }
      ]
    },
    {
      "cell_type": "code",
      "source": [
        "df['Value'] = df['Value'].str.replace('€', \"\")\n",
        "\n",
        "df_gks['Value'] = df_gks['Value'].str.replace('€', \"\")\n",
        "df_defs['Value'] = df_defs['Value'].str.replace('€', \"\")\n",
        "df_mids['Value'] = df_mids['Value'].str.replace('€', \"\")\n",
        "df_fwds['Value'] = df_fwds['Value'].str.replace('€', \"\")"
      ],
      "metadata": {
        "id": "26bR9EJzMmVP"
      },
      "execution_count": 593,
      "outputs": []
    },
    {
      "cell_type": "markdown",
      "source": [
        "There are players with zero value as well."
      ],
      "metadata": {
        "id": "Y9y-yztaVJXj"
      }
    },
    {
      "cell_type": "code",
      "source": [
        "len([k for k in df['Value'] if k==0])"
      ],
      "metadata": {
        "colab": {
          "base_uri": "https://localhost:8080/"
        },
        "id": "Wi1-ujKFNYpP",
        "outputId": "7143034a-c25a-497b-f7a3-842146806e47"
      },
      "execution_count": 594,
      "outputs": [
        {
          "output_type": "execute_result",
          "data": {
            "text/plain": [
              "0"
            ]
          },
          "metadata": {},
          "execution_count": 594
        }
      ]
    },
    {
      "cell_type": "code",
      "source": [
        "df[df[\"Value\"].str.contains('K|M')==False]['Name']"
      ],
      "metadata": {
        "colab": {
          "base_uri": "https://localhost:8080/"
        },
        "id": "pq0Uki-HQTBj",
        "outputId": "5507f69b-bbbe-4502-b670-7e0ef92d452e"
      },
      "execution_count": 595,
      "outputs": [
        {
          "output_type": "execute_result",
          "data": {
            "text/plain": [
              "199                   R. Kent\n",
              "906      11 Ricardo Conceição\n",
              "997            Z. Ibrahimović\n",
              "1020              11 L. Núñez\n",
              "1331                  Joaquín\n",
              "                 ...         \n",
              "16365          10 J. Chandler\n",
              "16422             11 J. Lindr\n",
              "16449            07 G. Warmuz\n",
              "16534           10 J. Lachuer\n",
              "17112                09 Gatti\n",
              "Name: Name, Length: 72, dtype: object"
            ]
          },
          "metadata": {},
          "execution_count": 595
        }
      ]
    },
    {
      "cell_type": "code",
      "source": [
        "df['Value'] = df['Value'].replace({'K': '*1e3', 'M': '*1e6'}, regex=True).map(pd.eval).astype(int)\n",
        "\n",
        "df_gks['Value'] = df_gks['Value'].replace({'K': '*1e3', 'M': '*1e6'}, regex=True).map(pd.eval).astype(int)\n",
        "df_defs['Value'] = df_defs['Value'].replace({'K': '*1e3', 'M': '*1e6'}, regex=True).map(pd.eval).astype(int)\n",
        "df_mids['Value'] = df_mids['Value'].replace({'K': '*1e3', 'M': '*1e6'}, regex=True).map(pd.eval).astype(int)\n",
        "df_fwds['Value'] = df_fwds['Value'].replace({'K': '*1e3', 'M': '*1e6'}, regex=True).map(pd.eval).astype(int)"
      ],
      "metadata": {
        "id": "-F5-36mTSCSP"
      },
      "execution_count": 596,
      "outputs": []
    },
    {
      "cell_type": "markdown",
      "source": [
        "#`Wage` column"
      ],
      "metadata": {
        "id": "Y41JXSw6VLUC"
      }
    },
    {
      "cell_type": "code",
      "source": [
        "df['Wage']"
      ],
      "metadata": {
        "colab": {
          "base_uri": "https://localhost:8080/"
        },
        "id": "p8NE949iULw2",
        "outputId": "542d8f66-630a-4b3e-8902-456d854bf812"
      },
      "execution_count": 597,
      "outputs": [
        {
          "output_type": "execute_result",
          "data": {
            "text/plain": [
              "0        €115K\n",
              "1        €190K\n",
              "2         €46K\n",
              "3        €350K\n",
              "4        €110K\n",
              "         ...  \n",
              "17655     €500\n",
              "17656     €500\n",
              "17657      €2K\n",
              "17658     €500\n",
              "17659     €500\n",
              "Name: Wage, Length: 17448, dtype: object"
            ]
          },
          "metadata": {},
          "execution_count": 597
        }
      ]
    },
    {
      "cell_type": "code",
      "source": [
        "df['Wage'] = df['Wage'].str.replace('€', \"\")\n",
        "\n",
        "df_gks['Wage'] = df_gks['Wage'].str.replace('€', \"\")\n",
        "df_defs['Wage'] = df_defs['Wage'].str.replace('€', \"\")\n",
        "df_mids['Wage'] = df_mids['Wage'].str.replace('€', \"\")\n",
        "df_fwds['Wage'] = df_fwds['Wage'].str.replace('€', \"\")"
      ],
      "metadata": {
        "id": "5LAYCpnBWCnC"
      },
      "execution_count": 598,
      "outputs": []
    },
    {
      "cell_type": "code",
      "source": [
        "df['Wage'] = df['Wage'].replace({'K': '*1e3', 'M': '*1e6'}, regex=True).map(pd.eval).astype(int)\n",
        "\n",
        "df_gks['Wage'] = df_gks['Wage'].replace({'K': '*1e3', 'M': '*1e6'}, regex=True).map(pd.eval).astype(int)\n",
        "df_defs['Wage'] = df_defs['Wage'].replace({'K': '*1e3', 'M': '*1e6'}, regex=True).map(pd.eval).astype(int)\n",
        "df_mids['Wage'] = df_mids['Wage'].replace({'K': '*1e3', 'M': '*1e6'}, regex=True).map(pd.eval).astype(int)\n",
        "df_fwds['Wage'] = df_fwds['Wage'].replace({'K': '*1e3', 'M': '*1e6'}, regex=True).map(pd.eval).astype(int)"
      ],
      "metadata": {
        "id": "YhJYtvnaWJzI"
      },
      "execution_count": 599,
      "outputs": []
    },
    {
      "cell_type": "markdown",
      "source": [
        "#`International Reputation` column"
      ],
      "metadata": {
        "id": "RXNWGhDOWize"
      }
    },
    {
      "cell_type": "code",
      "source": [
        "len([k for k in df['International Reputation'] if k > 4])"
      ],
      "metadata": {
        "colab": {
          "base_uri": "https://localhost:8080/"
        },
        "id": "3I45ygYYWdrs",
        "outputId": "d44bb091-46fa-4198-ff46-42530d283b36"
      },
      "execution_count": 600,
      "outputs": [
        {
          "output_type": "execute_result",
          "data": {
            "text/plain": [
              "7"
            ]
          },
          "metadata": {},
          "execution_count": 600
        }
      ]
    },
    {
      "cell_type": "code",
      "source": [
        "[k for k in df['International Reputation'] if k > 4]"
      ],
      "metadata": {
        "colab": {
          "base_uri": "https://localhost:8080/"
        },
        "id": "TiZK_meDW3Ea",
        "outputId": "e5de6e57-7e13-42f8-a08b-80b9416d9c77"
      },
      "execution_count": 601,
      "outputs": [
        {
          "output_type": "execute_result",
          "data": {
            "text/plain": [
              "[5.0, 5.0, 5.0, 5.0, 5.0, 5.0, 5.0]"
            ]
          },
          "metadata": {},
          "execution_count": 601
        }
      ]
    },
    {
      "cell_type": "code",
      "source": [
        "df[df['International Reputation'] >= 5]['Name']"
      ],
      "metadata": {
        "colab": {
          "base_uri": "https://localhost:8080/"
        },
        "id": "4PFKqrEeW5qw",
        "outputId": "e9968957-3e3a-4b1f-ef74-8b020734c5d5"
      },
      "execution_count": 602,
      "outputs": [
        {
          "output_type": "execute_result",
          "data": {
            "text/plain": [
              "41          R. Lewandowski\n",
              "56                L. Messi\n",
              "100      Cristiano Ronaldo\n",
              "102              Neymar Jr\n",
              "997         Z. Ibrahimović\n",
              "9151              M. Neuer\n",
              "12893             J. Oblak\n",
              "Name: Name, dtype: object"
            ]
          },
          "metadata": {},
          "execution_count": 602
        }
      ]
    },
    {
      "cell_type": "code",
      "source": [
        "len([k for k in df['International Reputation'] if k == 4])"
      ],
      "metadata": {
        "colab": {
          "base_uri": "https://localhost:8080/"
        },
        "id": "7nUzVRxsXIKG",
        "outputId": "e1c4330d-fa99-4e37-f201-9788647ea3cb"
      },
      "execution_count": 603,
      "outputs": [
        {
          "output_type": "execute_result",
          "data": {
            "text/plain": [
              "73"
            ]
          },
          "metadata": {},
          "execution_count": 603
        }
      ]
    },
    {
      "cell_type": "code",
      "source": [
        "df[df['International Reputation'] == 4]['Name'].head(15)"
      ],
      "metadata": {
        "colab": {
          "base_uri": "https://localhost:8080/"
        },
        "id": "FHDXlaWzXddE",
        "outputId": "bea852f6-e350-4a3a-dcb3-e4e1117ee26a"
      },
      "execution_count": 604,
      "outputs": [
        {
          "output_type": "execute_result",
          "data": {
            "text/plain": [
              "0       L. Goretzka\n",
              "3      K. De Bruyne\n",
              "5        J. Kimmich\n",
              "6          D. Alaba\n",
              "11        L. Modrić\n",
              "18     A. Griezmann\n",
              "22        L. Suárez\n",
              "25         M. Salah\n",
              "42      22 A. Vidal\n",
              "52          H. Kane\n",
              "60          S. Mané\n",
              "75        K. Mbappé\n",
              "90         P. Pogba\n",
              "103         G. Bale\n",
              "106         M. Reus\n",
              "Name: Name, dtype: object"
            ]
          },
          "metadata": {},
          "execution_count": 604
        }
      ]
    },
    {
      "cell_type": "markdown",
      "source": [
        "5 is the maximum international reputation and only 7 legendary players have that while 73 elite players have international reputation value of 4."
      ],
      "metadata": {
        "id": "iEaeTRq1Xm9_"
      }
    },
    {
      "cell_type": "markdown",
      "source": [
        "#`Loaned From` column"
      ],
      "metadata": {
        "id": "HQt-ie21YNwB"
      }
    },
    {
      "cell_type": "code",
      "source": [
        "df['Loaned From'] = df['Loaned From'].str.split('>').str[1]\n",
        "df['Loaned From'] = df['Loaned From'].str.split('<').str[0]"
      ],
      "metadata": {
        "id": "1XCb1aijYCLJ"
      },
      "execution_count": 605,
      "outputs": []
    },
    {
      "cell_type": "code",
      "source": [
        "df_gks['Loaned From'] = df_gks['Loaned From'].str.split('>').str[1]\n",
        "df_gks['Loaned From'] = df_gks['Loaned From'].str.split('<').str[0]\n",
        "\n",
        "df_mids['Loaned From'] = df_mids['Loaned From'].str.split('>').str[1]\n",
        "df_mids['Loaned From'] = df_mids['Loaned From'].str.split('<').str[0]\n",
        "\n",
        "df_defs['Loaned From'] = df_defs['Loaned From'].str.split('>').str[1]\n",
        "df_defs['Loaned From'] = df_defs['Loaned From'].str.split('<').str[0]\n",
        "\n",
        "df_fwds['Loaned From'] = df_fwds['Loaned From'].str.split('>').str[1]\n",
        "df_fwds['Loaned From'] = df_fwds['Loaned From'].str.split('<').str[0]"
      ],
      "metadata": {
        "id": "WhWgJ9wJeLu5"
      },
      "execution_count": 606,
      "outputs": []
    },
    {
      "cell_type": "markdown",
      "source": [
        "#`Height` column"
      ],
      "metadata": {
        "id": "6nVKHDCTdLCD"
      }
    },
    {
      "cell_type": "code",
      "source": [
        "df['Height'].str.contains('cm').sum()"
      ],
      "metadata": {
        "colab": {
          "base_uri": "https://localhost:8080/"
        },
        "id": "8HbC_yajczZ3",
        "outputId": "51a47835-a44f-4065-8e02-c7097b54c6f2"
      },
      "execution_count": 607,
      "outputs": [
        {
          "output_type": "execute_result",
          "data": {
            "text/plain": [
              "17448"
            ]
          },
          "metadata": {},
          "execution_count": 607
        }
      ]
    },
    {
      "cell_type": "code",
      "source": [
        "df['Height'] = df['Height'].str.replace('cm', \"\")\n",
        "\n",
        "df_gks['Height'] = df_gks['Height'].str.replace('cm', \"\")\n",
        "df_defs['Height'] = df_defs['Height'].str.replace('cm', \"\")\n",
        "df_mids['Height'] = df_mids['Height'].str.replace('cm', \"\")\n",
        "df_fwds['Height'] = df_fwds['Height'].str.replace('cm', \"\")"
      ],
      "metadata": {
        "id": "gjpXLr7Ndy-e"
      },
      "execution_count": 608,
      "outputs": []
    },
    {
      "cell_type": "code",
      "source": [
        "df.rename(columns = {'Height':'Height(cm)'}, inplace = True)\n",
        "\n",
        "df_gks.rename(columns = {'Height':'Height(cm)'}, inplace = True)\n",
        "df_defs.rename(columns = {'Height':'Height(cm)'}, inplace = True)\n",
        "df_mids.rename(columns = {'Height':'Height(cm)'}, inplace = True)\n",
        "df_fwds.rename(columns = {'Height':'Height(cm)'}, inplace = True)"
      ],
      "metadata": {
        "id": "NCEilMcee982"
      },
      "execution_count": 609,
      "outputs": []
    },
    {
      "cell_type": "markdown",
      "source": [
        "#`Weight` column"
      ],
      "metadata": {
        "id": "o2dcPRDrewut"
      }
    },
    {
      "cell_type": "code",
      "source": [
        "df['Weight'].str.contains('kg').sum()"
      ],
      "metadata": {
        "colab": {
          "base_uri": "https://localhost:8080/"
        },
        "id": "-N9VQgspes97",
        "outputId": "879523e3-51d4-4f54-92d7-074d1bc32903"
      },
      "execution_count": 610,
      "outputs": [
        {
          "output_type": "execute_result",
          "data": {
            "text/plain": [
              "17448"
            ]
          },
          "metadata": {},
          "execution_count": 610
        }
      ]
    },
    {
      "cell_type": "code",
      "source": [
        "df['Weight'] = df['Weight'].str.replace('kg', \"\")\n",
        "\n",
        "df_gks['Weight'] = df_gks['Weight'].str.replace('kg', \"\")\n",
        "df_defs['Weight'] = df_defs['Weight'].str.replace('kg', \"\")\n",
        "df_mids['Weight'] = df_mids['Weight'].str.replace('kg', \"\")\n",
        "df_fwds['Weight'] = df_fwds['Weight'].str.replace('kg', \"\")"
      ],
      "metadata": {
        "id": "Sw-FWXNlfufe"
      },
      "execution_count": 611,
      "outputs": []
    },
    {
      "cell_type": "code",
      "source": [
        "df.rename(columns = {'Weight':'Weight(kg)'}, inplace = True)\n",
        "\n",
        "df_gks.rename(columns = {'Weight':'Weight(kg)'}, inplace = True)\n",
        "df_defs.rename(columns = {'Weight':'Weight(kg)'}, inplace = True)\n",
        "df_mids.rename(columns = {'Weight':'Weight(kg)'}, inplace = True)\n",
        "df_fwds.rename(columns = {'Weight':'Weight(kg)'}, inplace = True)"
      ],
      "metadata": {
        "id": "ZsoP-D2afyjM"
      },
      "execution_count": 612,
      "outputs": []
    },
    {
      "cell_type": "markdown",
      "source": [
        "#`Release Clause` column"
      ],
      "metadata": {
        "id": "JjoLuKLngZkl"
      }
    },
    {
      "cell_type": "code",
      "source": [
        "df['Release Clause'].str.contains(\"€\").sum()"
      ],
      "metadata": {
        "colab": {
          "base_uri": "https://localhost:8080/"
        },
        "id": "Qu2eVanfgFBH",
        "outputId": "a0b2a42d-255b-4ee0-9104-5bd3eb8af85d"
      },
      "execution_count": 613,
      "outputs": [
        {
          "output_type": "execute_result",
          "data": {
            "text/plain": [
              "16508"
            ]
          },
          "metadata": {},
          "execution_count": 613
        }
      ]
    },
    {
      "cell_type": "code",
      "source": [
        "df['Release Clause'].str.contains(\"K\").sum() + df['Release Clause'].str.contains(\"M\").sum()"
      ],
      "metadata": {
        "colab": {
          "base_uri": "https://localhost:8080/"
        },
        "id": "dwUcHJ51hZvS",
        "outputId": "a2740017-573e-4bf5-eaf5-383534a05eae"
      },
      "execution_count": 614,
      "outputs": [
        {
          "output_type": "execute_result",
          "data": {
            "text/plain": [
              "16508"
            ]
          },
          "metadata": {},
          "execution_count": 614
        }
      ]
    },
    {
      "cell_type": "code",
      "source": [
        "df['Release Clause'].isnull().sum()"
      ],
      "metadata": {
        "colab": {
          "base_uri": "https://localhost:8080/"
        },
        "id": "JCAelu8xil_0",
        "outputId": "ac644357-e390-4c52-c8bd-f25321a59797"
      },
      "execution_count": 615,
      "outputs": [
        {
          "output_type": "execute_result",
          "data": {
            "text/plain": [
              "940"
            ]
          },
          "metadata": {},
          "execution_count": 615
        }
      ]
    },
    {
      "cell_type": "code",
      "source": [
        "df['Release Clause'] = df['Release Clause'].str.replace('€', \"\")\n",
        "\n",
        "df_gks['Release Clause'] = df_gks['Release Clause'].str.replace('€', \"\")\n",
        "df_defs['Release Clause'] = df_defs['Release Clause'].str.replace('€', \"\")\n",
        "df_mids['Release Clause'] = df_mids['Release Clause'].str.replace('€', \"\")\n",
        "df_fwds['Release Clause'] = df_fwds['Release Clause'].str.replace('€', \"\")"
      ],
      "metadata": {
        "id": "WwhvaK9Cj-WH"
      },
      "execution_count": 616,
      "outputs": []
    },
    {
      "cell_type": "code",
      "source": [
        "df['Release Clause'] = df['Release Clause'].fillna(0)\n",
        "\n",
        "df_gks['Release Clause'] = df_gks['Release Clause'].fillna(0)\n",
        "df_defs['Release Clause'] = df_defs['Release Clause'].fillna(0)\n",
        "df_mids['Release Clause'] = df_mids['Release Clause'].fillna(0)\n",
        "df_fwds['Release Clause'] = df_fwds['Release Clause'].fillna(0)"
      ],
      "metadata": {
        "id": "fsDsmX5Aipaj"
      },
      "execution_count": 617,
      "outputs": []
    },
    {
      "cell_type": "code",
      "source": [
        "df['Release Clause'] = df['Release Clause'].replace({'K': '*1e3', 'M': '*1e6'}, regex=True).map(pd.eval).astype(int)\n",
        "\n",
        "df_gks['Release Clause'] = df_gks['Release Clause'].replace({'K': '*1e3', 'M': '*1e6'}, regex=True).map(pd.eval).astype(int)\n",
        "df_defs['Release Clause'] = df_defs['Release Clause'].replace({'K': '*1e3', 'M': '*1e6'}, regex=True).map(pd.eval).astype(int)\n",
        "df_mids['Release Clause'] = df_mids['Release Clause'].replace({'K': '*1e3', 'M': '*1e6'}, regex=True).map(pd.eval).astype(int)\n",
        "df_fwds['Release Clause'] = df_fwds['Release Clause'].replace({'K': '*1e3', 'M': '*1e6'}, regex=True).map(pd.eval).astype(int)"
      ],
      "metadata": {
        "id": "f7ln7ukJhQ2I"
      },
      "execution_count": 618,
      "outputs": []
    },
    {
      "cell_type": "markdown",
      "source": [
        "#Drop unnecessary columns."
      ],
      "metadata": {
        "id": "blu9UzpblqP9"
      }
    },
    {
      "cell_type": "code",
      "source": [
        "df.drop(['Best Overall Rating', 'Real Face', 'Joined', 'Contract Valid Until'], inplace=True, axis=1)\n",
        "\n",
        "df_gks.drop(['Best Overall Rating', 'Real Face', 'Joined', 'Contract Valid Until'], inplace=True, axis=1)\n",
        "df_defs.drop(['Best Overall Rating', 'Real Face', 'Joined', 'Contract Valid Until'], inplace=True, axis=1)\n",
        "df_mids.drop(['Best Overall Rating', 'Real Face', 'Joined', 'Contract Valid Until'], inplace=True, axis=1)\n",
        "df_fwds.drop(['Best Overall Rating', 'Real Face', 'Joined', 'Contract Valid Until'], inplace=True, axis=1)"
      ],
      "metadata": {
        "id": "DlYR7Ie6lzlw"
      },
      "execution_count": 619,
      "outputs": []
    },
    {
      "cell_type": "markdown",
      "source": [
        "#Download Cleaned Datasets"
      ],
      "metadata": {
        "id": "RpsVDW-oocip"
      }
    },
    {
      "cell_type": "code",
      "source": [
        "df.to_csv('FIFA.csv', index=False)"
      ],
      "metadata": {
        "id": "8EfqJ0_0mKby"
      },
      "execution_count": 627,
      "outputs": []
    },
    {
      "cell_type": "code",
      "source": [
        "df_gks.to_csv('FIFA_GKS.csv', index=False)\n",
        "df_defs.to_csv('FIFA_DEFS.csv', index=False)\n",
        "df_mids.to_csv('FIFA_MIDS.csv', index=False)\n",
        "df_fwds.to_csv('FIFA_FWDS.csv', index=False)"
      ],
      "metadata": {
        "id": "hSWWGrIjpDmQ"
      },
      "execution_count": 628,
      "outputs": []
    },
    {
      "cell_type": "code",
      "source": [],
      "metadata": {
        "id": "aungAHEaq2-e"
      },
      "execution_count": null,
      "outputs": []
    }
  ]
}